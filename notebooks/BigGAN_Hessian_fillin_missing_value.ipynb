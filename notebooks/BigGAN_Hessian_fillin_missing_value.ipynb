{
 "cells": [
  {
   "cell_type": "code",
   "execution_count": 1,
   "metadata": {},
   "outputs": [
    {
     "name": "stdout",
     "output_type": "stream",
     "text": [
      "The autoreload extension is already loaded. To reload it, use:\n",
      "  %reload_ext autoreload\n"
     ]
    },
    {
     "name": "stderr",
     "output_type": "stream",
     "text": [
      "c:\\Users\\ponce\\.conda\\envs\\torch\\lib\\site-packages\\tqdm\\auto.py:22: TqdmWarning: IProgress not found. Please update jupyter and ipywidgets. See https://ipywidgets.readthedocs.io/en/stable/user_install.html\n",
      "  from .autonotebook import tqdm as notebook_tqdm\n"
     ]
    }
   ],
   "source": [
    "# %%\n",
    "%load_ext autoreload\n",
    "%autoreload 2\n",
    "#%%\n",
    "import os\n",
    "from os.path import join\n",
    "import re\n",
    "import math\n",
    "import pickle as pkl\n",
    "import time\n",
    "import glob\n",
    "from PIL import Image\n",
    "import numpy as np\n",
    "import pandas as pd\n",
    "from easydict import EasyDict as edict\n",
    "import h5py\n",
    "import seaborn as sns\n",
    "import matplotlib.pyplot as plt\n",
    "from neuro_data_analysis.mat_data_translate_lib import h5_to_dict_simplify, print_hdf5_info\n",
    "from scipy import stats\n",
    "import statsmodels.api as sm\n",
    "from statsmodels.formula.api import ols\n",
    "from core.utils.plot_utils import saveallforms\n",
    "from core.utils.colormap_matlab import parula, viridis\n",
    "\n",
    "# set the pandas display options width\n",
    "pd.set_option('display.width', 1000)\n",
    "pd.set_option('display.max_rows', 1000)\n",
    "pd.set_option('display.max_columns', 1000)\n",
    "\n",
    "mat_root = r\"S:\\Data-Ephys-MAT\"\n",
    "pkl_root = r\"S:\\Data-Ephys-PKL\"\n",
    "exp_record_pathdict = {\"Alfa\": r\"S:\\Exp_Record_Alfa.xlsx\", \n",
    "                       \"Beto\": r\"S:\\ExpSpecTable_Augment.xlsx\",\n",
    "                       \"Caos\": r\"S:\\Exp_Record_Caos.xlsx\",\n",
    "                       \"Diablito\": r\"S:\\Exp_Record_Diablito.xlsx\"}\n",
    "\n",
    "#%% Main analysis pipeline\n",
    "from neuro_data_analysis.neural_tuning_analysis_lib import organize_unit_info, maybe_add_unit_id_to_meta, \\\n",
    "    calculate_neural_responses, parse_stim_info, find_full_image_paths, load_space_images\n",
    "from core.utils.montage_utils import PIL_array_to_montage, PIL_array_to_montage_score_frame\n",
    "from core.utils.dataset_utils import ImagePathDataset\n",
    "from tqdm.auto import tqdm"
   ]
  },
  {
   "cell_type": "code",
   "execution_count": 7,
   "metadata": {},
   "outputs": [
    {
     "name": "stderr",
     "output_type": "stream",
     "text": [
      "0it [00:00, ?it/s]"
     ]
    },
    {
     "name": "stdout",
     "output_type": "stream",
     "text": [
      "Processing: row 0 Caos-12022024-003 Caos 1.0\n"
     ]
    },
    {
     "name": "stderr",
     "output_type": "stream",
     "text": [
      "1it [00:00,  3.42it/s]"
     ]
    },
    {
     "name": "stdout",
     "output_type": "stream",
     "text": [
      "Processing: row 1 Caos-12022024-006 Caos 2.0\n"
     ]
    },
    {
     "name": "stderr",
     "output_type": "stream",
     "text": [
      "2it [00:00,  2.30it/s]"
     ]
    },
    {
     "name": "stdout",
     "output_type": "stream",
     "text": [
      "Processing: row 2 Caos-12042024-003 Caos 3.0\n"
     ]
    },
    {
     "name": "stderr",
     "output_type": "stream",
     "text": [
      "3it [00:01,  2.14it/s]"
     ]
    },
    {
     "name": "stdout",
     "output_type": "stream",
     "text": [
      "Processing: row 3 Caos-12042024-007 Caos 4.0\n"
     ]
    },
    {
     "name": "stderr",
     "output_type": "stream",
     "text": [
      "4it [00:01,  2.14it/s]"
     ]
    },
    {
     "name": "stdout",
     "output_type": "stream",
     "text": [
      "Processing: row 4 Caos-12092024-004 Caos 5.0\n"
     ]
    },
    {
     "name": "stderr",
     "output_type": "stream",
     "text": [
      "5it [00:02,  1.77it/s]"
     ]
    },
    {
     "name": "stdout",
     "output_type": "stream",
     "text": [
      "Processing: row 5 Caos-12102024-003 Caos 6.0\n"
     ]
    },
    {
     "name": "stderr",
     "output_type": "stream",
     "text": [
      "6it [00:03,  1.75it/s]"
     ]
    },
    {
     "name": "stdout",
     "output_type": "stream",
     "text": [
      "Processing: row 6 Caos-12102024-006 Caos 7.0\n"
     ]
    },
    {
     "name": "stderr",
     "output_type": "stream",
     "text": [
      "7it [00:03,  1.61it/s]"
     ]
    },
    {
     "name": "stdout",
     "output_type": "stream",
     "text": [
      "Processing: row 7 Diablito-03122024-003 Diablito 1.0\n"
     ]
    },
    {
     "name": "stderr",
     "output_type": "stream",
     "text": [
      "8it [00:04,  1.73it/s]"
     ]
    },
    {
     "name": "stdout",
     "output_type": "stream",
     "text": [
      "Processing: row 8 Diablito-11122024-003 Diablito 2.0\n"
     ]
    },
    {
     "name": "stderr",
     "output_type": "stream",
     "text": [
      "9it [00:04,  1.84it/s]"
     ]
    },
    {
     "name": "stdout",
     "output_type": "stream",
     "text": [
      "Processing: row 9 Diablito-11122024-005 Diablito 3.0\n"
     ]
    },
    {
     "name": "stderr",
     "output_type": "stream",
     "text": [
      "10it [00:05,  1.84it/s]"
     ]
    },
    {
     "name": "stdout",
     "output_type": "stream",
     "text": [
      "Processing: row 10 Diablito-12122024-004 Diablito 4.0\n"
     ]
    },
    {
     "name": "stderr",
     "output_type": "stream",
     "text": [
      "11it [00:05,  1.94it/s]"
     ]
    },
    {
     "name": "stdout",
     "output_type": "stream",
     "text": [
      "Processing: row 11 Diablito-12122024-006 Diablito 5.0\n"
     ]
    },
    {
     "name": "stderr",
     "output_type": "stream",
     "text": [
      "12it [00:06,  2.01it/s]"
     ]
    },
    {
     "name": "stdout",
     "output_type": "stream",
     "text": [
      "Processing: row 12 Alfa-04082020-003 Alfa 1.0\n"
     ]
    },
    {
     "name": "stderr",
     "output_type": "stream",
     "text": [
      "13it [00:06,  2.03it/s]"
     ]
    },
    {
     "name": "stdout",
     "output_type": "stream",
     "text": [
      "Processing: row 13 Alfa-06082020-004 Alfa 2.0\n",
      "Warning: No hessian images found for ['class_eig0_exp2.5_lin-1.0' 'class_eig0_exp2.5_lin-2.0'\n",
      " 'class_eig0_exp2.5_lin-3.0' 'class_eig0_exp2.5_lin-4.0'\n",
      " 'class_eig0_exp2.5_lin-5.0' 'class_eig0_exp2.5_lin0.0'\n",
      " 'class_eig0_exp2.5_lin1.0' 'class_eig0_exp2.5_lin2.0'\n",
      " 'class_eig0_exp2.5_lin3.0' 'class_eig0_exp2.5_lin4.0']..., try the older pattern\n"
     ]
    },
    {
     "name": "stderr",
     "output_type": "stream",
     "text": [
      "14it [00:07,  2.06it/s]"
     ]
    },
    {
     "name": "stdout",
     "output_type": "stream",
     "text": [
      "Processing: row 14 Alfa-10082020-004 Alfa 2.0\n"
     ]
    },
    {
     "name": "stderr",
     "output_type": "stream",
     "text": [
      "15it [00:07,  1.75it/s]"
     ]
    },
    {
     "name": "stdout",
     "output_type": "stream",
     "text": [
      "Processing: row 15 Alfa-12082020-004 Alfa 3.0\n"
     ]
    },
    {
     "name": "stderr",
     "output_type": "stream",
     "text": [
      "16it [00:08,  1.58it/s]"
     ]
    },
    {
     "name": "stdout",
     "output_type": "stream",
     "text": [
      "Processing: row 16 Alfa-14082020-003 Alfa 4.0\n"
     ]
    },
    {
     "name": "stderr",
     "output_type": "stream",
     "text": [
      "17it [00:09,  1.54it/s]"
     ]
    },
    {
     "name": "stdout",
     "output_type": "stream",
     "text": [
      "Processing: row 17 Alfa-25082020-007 Alfa 5.0\n"
     ]
    },
    {
     "name": "stderr",
     "output_type": "stream",
     "text": [
      "18it [00:10,  1.54it/s]"
     ]
    },
    {
     "name": "stdout",
     "output_type": "stream",
     "text": [
      "Processing: row 18 Alfa-27082020-003 Alfa 6.0\n",
      "Exist inactive channels: [ 1 20]\n",
      " firing rate [0.        1.0922855]\n"
     ]
    },
    {
     "name": "stderr",
     "output_type": "stream",
     "text": [
      "19it [00:10,  1.55it/s]"
     ]
    },
    {
     "name": "stdout",
     "output_type": "stream",
     "text": [
      "Processing: row 19 Alfa-01092020-004 Alfa 7.0\n"
     ]
    },
    {
     "name": "stderr",
     "output_type": "stream",
     "text": [
      "20it [00:11,  1.61it/s]"
     ]
    },
    {
     "name": "stdout",
     "output_type": "stream",
     "text": [
      "Processing: row 20 Alfa-02092020-004 Alfa 8.0\n"
     ]
    },
    {
     "name": "stderr",
     "output_type": "stream",
     "text": [
      "21it [00:11,  1.68it/s]"
     ]
    },
    {
     "name": "stdout",
     "output_type": "stream",
     "text": [
      "Processing: row 21 Alfa-02092020-006 Alfa 9.0\n"
     ]
    },
    {
     "name": "stderr",
     "output_type": "stream",
     "text": [
      "22it [00:12,  1.67it/s]"
     ]
    },
    {
     "name": "stdout",
     "output_type": "stream",
     "text": [
      "Processing: row 22 Alfa-08092020-004 Alfa 10.0\n"
     ]
    },
    {
     "name": "stderr",
     "output_type": "stream",
     "text": [
      "23it [00:12,  1.71it/s]"
     ]
    },
    {
     "name": "stdout",
     "output_type": "stream",
     "text": [
      "Processing: row 23 Alfa-11092020-003 Alfa 11.0\n"
     ]
    },
    {
     "name": "stderr",
     "output_type": "stream",
     "text": [
      "24it [00:13,  1.73it/s]"
     ]
    },
    {
     "name": "stdout",
     "output_type": "stream",
     "text": [
      "Processing: row 24 Alfa-11092020-006 Alfa 12.0\n"
     ]
    },
    {
     "name": "stderr",
     "output_type": "stream",
     "text": [
      "25it [00:14,  1.67it/s]"
     ]
    },
    {
     "name": "stdout",
     "output_type": "stream",
     "text": [
      "Processing: row 25 Alfa-16092020-003 Alfa 13.0\n"
     ]
    },
    {
     "name": "stderr",
     "output_type": "stream",
     "text": [
      "26it [00:14,  1.58it/s]"
     ]
    },
    {
     "name": "stdout",
     "output_type": "stream",
     "text": [
      "Processing: row 26 Alfa-16092020-005 Alfa 14.0\n"
     ]
    },
    {
     "name": "stderr",
     "output_type": "stream",
     "text": [
      "28it [00:15,  2.14it/s]"
     ]
    },
    {
     "name": "stdout",
     "output_type": "stream",
     "text": [
      "Processing: row 27 Alfa-27102020-007 Alfa 15.0\n",
      "Processing: row 28 Alfa-27102020-008 Alfa 15.0\n"
     ]
    },
    {
     "name": "stderr",
     "output_type": "stream",
     "text": [
      "30it [00:15,  3.19it/s]"
     ]
    },
    {
     "name": "stdout",
     "output_type": "stream",
     "text": [
      "Processing: row 29 Alfa-27102020-009 Alfa 15.0\n",
      "Processing: row 30 Alfa-04112020-005 Alfa 16.0\n"
     ]
    },
    {
     "name": "stderr",
     "output_type": "stream",
     "text": [
      "31it [00:16,  3.04it/s]"
     ]
    },
    {
     "name": "stdout",
     "output_type": "stream",
     "text": [
      "Processing: row 31 Alfa-06112020-006 Alfa 17.0\n"
     ]
    },
    {
     "name": "stderr",
     "output_type": "stream",
     "text": [
      "32it [00:16,  2.93it/s]"
     ]
    },
    {
     "name": "stdout",
     "output_type": "stream",
     "text": [
      "Processing: row 32 Alfa-12012021-003 Alfa 18.0\n"
     ]
    },
    {
     "name": "stderr",
     "output_type": "stream",
     "text": [
      "33it [00:17,  2.30it/s]c:\\Users\\ponce\\.conda\\envs\\torch\\lib\\site-packages\\statsmodels\\regression\\linear_model.py:1716: RuntimeWarning: divide by zero encountered in scalar divide\n",
      "  return np.dot(wresid, wresid) / self.df_resid\n"
     ]
    },
    {
     "name": "stdout",
     "output_type": "stream",
     "text": [
      "Processing: row 33 Alfa-13012021-003 Alfa 19.0\n"
     ]
    },
    {
     "name": "stderr",
     "output_type": "stream",
     "text": [
      "c:\\Users\\ponce\\.conda\\envs\\torch\\lib\\site-packages\\statsmodels\\regression\\linear_model.py:1716: RuntimeWarning: divide by zero encountered in scalar divide\n",
      "  return np.dot(wresid, wresid) / self.df_resid\n",
      "c:\\Users\\ponce\\.conda\\envs\\torch\\lib\\site-packages\\statsmodels\\regression\\linear_model.py:1716: RuntimeWarning: divide by zero encountered in scalar divide\n",
      "  return np.dot(wresid, wresid) / self.df_resid\n",
      "c:\\Users\\ponce\\.conda\\envs\\torch\\lib\\site-packages\\statsmodels\\regression\\linear_model.py:1716: RuntimeWarning: divide by zero encountered in scalar divide\n",
      "  return np.dot(wresid, wresid) / self.df_resid\n",
      "c:\\Users\\ponce\\.conda\\envs\\torch\\lib\\site-packages\\statsmodels\\regression\\linear_model.py:1716: RuntimeWarning: divide by zero encountered in scalar divide\n",
      "  return np.dot(wresid, wresid) / self.df_resid\n",
      "c:\\Users\\ponce\\.conda\\envs\\torch\\lib\\site-packages\\statsmodels\\regression\\linear_model.py:1716: RuntimeWarning: divide by zero encountered in scalar divide\n",
      "  return np.dot(wresid, wresid) / self.df_resid\n",
      "c:\\Users\\ponce\\.conda\\envs\\torch\\lib\\site-packages\\statsmodels\\regression\\linear_model.py:1716: RuntimeWarning: divide by zero encountered in scalar divide\n",
      "  return np.dot(wresid, wresid) / self.df_resid\n",
      "c:\\Users\\ponce\\.conda\\envs\\torch\\lib\\site-packages\\statsmodels\\regression\\linear_model.py:1716: RuntimeWarning: divide by zero encountered in scalar divide\n",
      "  return np.dot(wresid, wresid) / self.df_resid\n",
      "c:\\Users\\ponce\\.conda\\envs\\torch\\lib\\site-packages\\statsmodels\\regression\\linear_model.py:1716: RuntimeWarning: divide by zero encountered in scalar divide\n",
      "  return np.dot(wresid, wresid) / self.df_resid\n",
      "c:\\Users\\ponce\\.conda\\envs\\torch\\lib\\site-packages\\statsmodels\\regression\\linear_model.py:1716: RuntimeWarning: divide by zero encountered in scalar divide\n",
      "  return np.dot(wresid, wresid) / self.df_resid\n",
      "c:\\Users\\ponce\\.conda\\envs\\torch\\lib\\site-packages\\statsmodels\\regression\\linear_model.py:1716: RuntimeWarning: divide by zero encountered in scalar divide\n",
      "  return np.dot(wresid, wresid) / self.df_resid\n",
      "c:\\Users\\ponce\\.conda\\envs\\torch\\lib\\site-packages\\statsmodels\\regression\\linear_model.py:1716: RuntimeWarning: divide by zero encountered in scalar divide\n",
      "  return np.dot(wresid, wresid) / self.df_resid\n",
      "c:\\Users\\ponce\\.conda\\envs\\torch\\lib\\site-packages\\statsmodels\\regression\\linear_model.py:1716: RuntimeWarning: divide by zero encountered in scalar divide\n",
      "  return np.dot(wresid, wresid) / self.df_resid\n",
      "c:\\Users\\ponce\\.conda\\envs\\torch\\lib\\site-packages\\statsmodels\\regression\\linear_model.py:1716: RuntimeWarning: divide by zero encountered in scalar divide\n",
      "  return np.dot(wresid, wresid) / self.df_resid\n",
      "c:\\Users\\ponce\\.conda\\envs\\torch\\lib\\site-packages\\statsmodels\\regression\\linear_model.py:1716: RuntimeWarning: divide by zero encountered in scalar divide\n",
      "  return np.dot(wresid, wresid) / self.df_resid\n",
      "c:\\Users\\ponce\\.conda\\envs\\torch\\lib\\site-packages\\statsmodels\\regression\\linear_model.py:1716: RuntimeWarning: divide by zero encountered in scalar divide\n",
      "  return np.dot(wresid, wresid) / self.df_resid\n",
      "c:\\Users\\ponce\\.conda\\envs\\torch\\lib\\site-packages\\statsmodels\\regression\\linear_model.py:1716: RuntimeWarning: divide by zero encountered in scalar divide\n",
      "  return np.dot(wresid, wresid) / self.df_resid\n",
      "c:\\Users\\ponce\\.conda\\envs\\torch\\lib\\site-packages\\statsmodels\\regression\\linear_model.py:1716: RuntimeWarning: divide by zero encountered in scalar divide\n",
      "  return np.dot(wresid, wresid) / self.df_resid\n",
      "c:\\Users\\ponce\\.conda\\envs\\torch\\lib\\site-packages\\statsmodels\\regression\\linear_model.py:1716: RuntimeWarning: divide by zero encountered in scalar divide\n",
      "  return np.dot(wresid, wresid) / self.df_resid\n"
     ]
    },
    {
     "name": "stdout",
     "output_type": "stream",
     "text": [
      "Error performing ANOVA for eig_id 0: r_matrix performs f_test for using dimensions that are asymptotically non-normal\n",
      "Error performing ANOVA for eig_id 1: r_matrix performs f_test for using dimensions that are asymptotically non-normal\n",
      "Error performing ANOVA for eig_id 2: r_matrix performs f_test for using dimensions that are asymptotically non-normal\n",
      "Error performing ANOVA for eig_id 3: r_matrix performs f_test for using dimensions that are asymptotically non-normal\n",
      "Error performing ANOVA for eig_id 6: r_matrix performs f_test for using dimensions that are asymptotically non-normal\n",
      "Error performing ANOVA for eig_id 9: r_matrix performs f_test for using dimensions that are asymptotically non-normal\n",
      "Error performing ANOVA for eig_id 13: r_matrix performs f_test for using dimensions that are asymptotically non-normal\n",
      "Error performing ANOVA for eig_id 17: r_matrix performs f_test for using dimensions that are asymptotically non-normal\n",
      "Error performing ANOVA for eig_id 21: r_matrix performs f_test for using dimensions that are asymptotically non-normal\n",
      "Error performing ANOVA for eig_id 25: r_matrix performs f_test for using dimensions that are asymptotically non-normal\n",
      "Error performing ANOVA for eig_id 30: r_matrix performs f_test for using dimensions that are asymptotically non-normal\n",
      "Error performing ANOVA for eig_id 40: r_matrix performs f_test for using dimensions that are asymptotically non-normal\n",
      "Error performing ANOVA for eig_id 60: r_matrix performs f_test for using dimensions that are asymptotically non-normal\n",
      "Error performing ANOVA for eig_id 0: r_matrix performs f_test for using dimensions that are asymptotically non-normal\n",
      "Error performing ANOVA for eig_id 1: r_matrix performs f_test for using dimensions that are asymptotically non-normal\n",
      "Error performing ANOVA for eig_id 2: r_matrix performs f_test for using dimensions that are asymptotically non-normal\n",
      "Error performing ANOVA for eig_id 3: r_matrix performs f_test for using dimensions that are asymptotically non-normal\n",
      "Error performing ANOVA for eig_id 4: r_matrix performs f_test for using dimensions that are asymptotically non-normal\n",
      "Error performing ANOVA for eig_id 5: r_matrix performs f_test for using dimensions that are asymptotically non-normal\n"
     ]
    },
    {
     "name": "stderr",
     "output_type": "stream",
     "text": [
      "c:\\Users\\ponce\\.conda\\envs\\torch\\lib\\site-packages\\statsmodels\\regression\\linear_model.py:1716: RuntimeWarning: divide by zero encountered in scalar divide\n",
      "  return np.dot(wresid, wresid) / self.df_resid\n",
      "c:\\Users\\ponce\\.conda\\envs\\torch\\lib\\site-packages\\statsmodels\\regression\\linear_model.py:1716: RuntimeWarning: divide by zero encountered in scalar divide\n",
      "  return np.dot(wresid, wresid) / self.df_resid\n",
      "c:\\Users\\ponce\\.conda\\envs\\torch\\lib\\site-packages\\statsmodels\\regression\\linear_model.py:1716: RuntimeWarning: divide by zero encountered in scalar divide\n",
      "  return np.dot(wresid, wresid) / self.df_resid\n",
      "c:\\Users\\ponce\\.conda\\envs\\torch\\lib\\site-packages\\statsmodels\\regression\\linear_model.py:1716: RuntimeWarning: divide by zero encountered in scalar divide\n",
      "  return np.dot(wresid, wresid) / self.df_resid\n",
      "c:\\Users\\ponce\\.conda\\envs\\torch\\lib\\site-packages\\statsmodels\\regression\\linear_model.py:1716: RuntimeWarning: divide by zero encountered in scalar divide\n",
      "  return np.dot(wresid, wresid) / self.df_resid\n",
      "c:\\Users\\ponce\\.conda\\envs\\torch\\lib\\site-packages\\statsmodels\\regression\\linear_model.py:1716: RuntimeWarning: divide by zero encountered in scalar divide\n",
      "  return np.dot(wresid, wresid) / self.df_resid\n",
      "34it [00:17,  2.25it/s]"
     ]
    },
    {
     "name": "stdout",
     "output_type": "stream",
     "text": [
      "Error performing ANOVA for eig_id 6: r_matrix performs f_test for using dimensions that are asymptotically non-normal\n",
      "Error performing ANOVA for eig_id 8: r_matrix performs f_test for using dimensions that are asymptotically non-normal\n",
      "Error performing ANOVA for eig_id 10: r_matrix performs f_test for using dimensions that are asymptotically non-normal\n",
      "Error performing ANOVA for eig_id 20: r_matrix performs f_test for using dimensions that are asymptotically non-normal\n",
      "Error performing ANOVA for eig_id 30: r_matrix performs f_test for using dimensions that are asymptotically non-normal\n",
      "Error performing ANOVA for eig_id 40: r_matrix performs f_test for using dimensions that are asymptotically non-normal\n",
      "Processing: row 34 Alfa-19022021-004 Alfa 20.0\n"
     ]
    },
    {
     "name": "stderr",
     "output_type": "stream",
     "text": [
      "35it [00:18,  2.01it/s]"
     ]
    },
    {
     "name": "stdout",
     "output_type": "stream",
     "text": [
      "Processing: row 35 Alfa-25022021-004 Alfa 21.0\n"
     ]
    },
    {
     "name": "stderr",
     "output_type": "stream",
     "text": [
      "36it [00:19,  1.80it/s]"
     ]
    },
    {
     "name": "stdout",
     "output_type": "stream",
     "text": [
      "Processing: row 36 Alfa-26022021-005 Alfa 22.0\n"
     ]
    },
    {
     "name": "stderr",
     "output_type": "stream",
     "text": [
      "37it [00:19,  1.74it/s]"
     ]
    },
    {
     "name": "stdout",
     "output_type": "stream",
     "text": [
      "Processing: row 37 Alfa-12032021-005 Alfa 23.0\n"
     ]
    },
    {
     "name": "stderr",
     "output_type": "stream",
     "text": [
      "38it [00:20,  1.62it/s]"
     ]
    },
    {
     "name": "stdout",
     "output_type": "stream",
     "text": [
      "Processing: row 38 Alfa-01042021-004 Alfa 24.0\n"
     ]
    },
    {
     "name": "stderr",
     "output_type": "stream",
     "text": [
      "39it [00:21,  1.55it/s]"
     ]
    },
    {
     "name": "stdout",
     "output_type": "stream",
     "text": [
      "Processing: row 39 Alfa-08042021-003 Alfa 25.0\n"
     ]
    },
    {
     "name": "stderr",
     "output_type": "stream",
     "text": [
      "40it [00:21,  1.53it/s]"
     ]
    },
    {
     "name": "stdout",
     "output_type": "stream",
     "text": [
      "Processing: row 40 Alfa-14052021-004 Alfa 26.0\n"
     ]
    },
    {
     "name": "stderr",
     "output_type": "stream",
     "text": [
      "41it [00:22,  1.52it/s]"
     ]
    },
    {
     "name": "stdout",
     "output_type": "stream",
     "text": [
      "Processing: row 41 Beto-27072020-004 Beto 1.0\n"
     ]
    },
    {
     "name": "stderr",
     "output_type": "stream",
     "text": [
      "42it [00:23,  1.40it/s]"
     ]
    },
    {
     "name": "stdout",
     "output_type": "stream",
     "text": [
      "Processing: row 42 Beto-05082020-003 Beto 2.0\n"
     ]
    },
    {
     "name": "stderr",
     "output_type": "stream",
     "text": [
      "43it [00:23,  1.44it/s]"
     ]
    },
    {
     "name": "stdout",
     "output_type": "stream",
     "text": [
      "Processing: row 43 Beto-07082020-003 Beto 3.0\n",
      "Warning: No hessian images found for ['class_eig0_exp2.5_lin-1.0' 'class_eig0_exp2.5_lin-2.0'\n",
      " 'class_eig0_exp2.5_lin-3.0' 'class_eig0_exp2.5_lin-4.0'\n",
      " 'class_eig0_exp2.5_lin-5.0' 'class_eig0_exp2.5_lin0.0'\n",
      " 'class_eig0_exp2.5_lin1.0' 'class_eig0_exp2.5_lin2.0'\n",
      " 'class_eig0_exp2.5_lin3.0' 'class_eig0_exp2.5_lin4.0']..., try the older pattern\n"
     ]
    },
    {
     "name": "stderr",
     "output_type": "stream",
     "text": [
      "44it [00:24,  1.31it/s]"
     ]
    },
    {
     "name": "stdout",
     "output_type": "stream",
     "text": [
      "Processing: row 44 Beto-11082020-004 Beto 4.0\n"
     ]
    },
    {
     "name": "stderr",
     "output_type": "stream",
     "text": [
      "45it [00:25,  1.30it/s]"
     ]
    },
    {
     "name": "stdout",
     "output_type": "stream",
     "text": [
      "Processing: row 45 Beto-13082020-004 Beto 5.0\n"
     ]
    },
    {
     "name": "stderr",
     "output_type": "stream",
     "text": [
      "46it [00:26,  1.32it/s]"
     ]
    },
    {
     "name": "stdout",
     "output_type": "stream",
     "text": [
      "Processing: row 46 Beto-17082020-004 Beto 6.0\n"
     ]
    },
    {
     "name": "stderr",
     "output_type": "stream",
     "text": [
      "47it [00:27,  1.38it/s]"
     ]
    },
    {
     "name": "stdout",
     "output_type": "stream",
     "text": [
      "Processing: row 47 Beto-18082020-003 Beto 7.0\n"
     ]
    },
    {
     "name": "stderr",
     "output_type": "stream",
     "text": [
      "48it [00:27,  1.33it/s]"
     ]
    },
    {
     "name": "stdout",
     "output_type": "stream",
     "text": [
      "Processing: row 48 Beto-20082020-004 Beto 8.0\n"
     ]
    },
    {
     "name": "stderr",
     "output_type": "stream",
     "text": [
      "49it [00:28,  1.46it/s]"
     ]
    },
    {
     "name": "stdout",
     "output_type": "stream",
     "text": [
      "Processing: row 49 Beto-24082020-003 Beto 9.0\n"
     ]
    },
    {
     "name": "stderr",
     "output_type": "stream",
     "text": [
      "50it [00:29,  1.42it/s]"
     ]
    },
    {
     "name": "stdout",
     "output_type": "stream",
     "text": [
      "Processing: row 50 Beto-31082020-003 Beto 10.0\n"
     ]
    },
    {
     "name": "stderr",
     "output_type": "stream",
     "text": [
      "51it [00:29,  1.38it/s]"
     ]
    },
    {
     "name": "stdout",
     "output_type": "stream",
     "text": [
      "Processing: row 51 Beto-07092020-003 Beto 11.0\n"
     ]
    },
    {
     "name": "stderr",
     "output_type": "stream",
     "text": [
      "52it [00:30,  1.39it/s]"
     ]
    },
    {
     "name": "stdout",
     "output_type": "stream",
     "text": [
      "Processing: row 52 Beto-10092020-003 Beto 12.0\n"
     ]
    },
    {
     "name": "stderr",
     "output_type": "stream",
     "text": [
      "53it [00:31,  1.45it/s]"
     ]
    },
    {
     "name": "stdout",
     "output_type": "stream",
     "text": [
      "Processing: row 53 Beto-14092020-004 Beto 13.0\n"
     ]
    },
    {
     "name": "stderr",
     "output_type": "stream",
     "text": [
      "54it [00:31,  1.53it/s]"
     ]
    },
    {
     "name": "stdout",
     "output_type": "stream",
     "text": [
      "Processing: row 54 Beto-17092020-003 Beto 14.0\n"
     ]
    },
    {
     "name": "stderr",
     "output_type": "stream",
     "text": [
      "55it [00:32,  1.70it/s]\n",
      "C:\\Users\\ponce\\AppData\\Local\\Temp\\ipykernel_79956\\1307319325.py:108: FutureWarning: The behavior of DataFrame concatenation with empty or all-NA entries is deprecated. In a future version, this will no longer exclude empty or all-NA columns when determining the result dtypes. To retain the old behavior, exclude the relevant entries before the concat operation.\n",
      "  tuning_stats_synopsis_df = pd.concat(tuning_stats_synopsis, ignore_index=True)\n"
     ]
    }
   ],
   "source": [
    "ExpRecord_Hessian_All = pd.read_csv(r\"ExpRecord_BigGAN_Hessian_tuning_ABCD_w_meta.csv\")\n",
    "ExpRecord_Evol_All = pd.read_csv(r\"ExpRecord_BigGAN_Hessian_Evol_ABCD_w_meta.csv\")\n",
    "figroot = f\"E:\\OneDrive - Harvard University\\BigGAN_Hessian\"\n",
    "tuning_stats_synopsis = []\n",
    "# ExpRecord_Hessian_All = ExpRecord_Hessian_All.sort_values(by=[\"Animal\", \"Expi\"]).reset_index(drop=True)\n",
    "for rowi, exprow in tqdm(ExpRecord_Hessian_All.iterrows()):\n",
    "    print(\"Processing: row\", rowi, exprow.ephysFN, exprow.Animal, exprow.Expi)\n",
    "    figdir = join(figroot, exprow.ephysFN)\n",
    "    os.makedirs(figdir, exist_ok=True)\n",
    "    \n",
    "    # Load data\n",
    "    data = pkl.load(open(join(pkl_root, f\"{exprow.ephysFN}.pkl\"), \"rb\"))\n",
    "    rasters = data[\"rasters\"]\n",
    "    meta = data[\"meta\"]\n",
    "    Trials = data[\"Trials\"]\n",
    "    stimuli_dir = exprow.stimuli\n",
    "    imageName = np.squeeze(Trials.imageName)\n",
    "    # Process unit information\n",
    "    meta = maybe_add_unit_id_to_meta(meta, rasters,) # for older experiments, unit_id is not in the meta file\n",
    "    unit_info = organize_unit_info(meta, exprow)\n",
    "    prefchan_id = unit_info[\"prefchan_id\"]\n",
    "    prefchan_str = unit_info[\"prefchan_str\"]\n",
    "    expstr = f\"{exprow.ephysFN} | Pref Channel {prefchan_str}\"\n",
    "    \n",
    "    # Process image names\n",
    "    unique_imgnames = np.unique(imageName)\n",
    "    stim_info_df = parse_stim_info(unique_imgnames)\n",
    "    indices_per_name = {name: np.where(imageName == name)[0] for name in unique_imgnames}\n",
    "    stim_info_df[\"trial_ids\"] = stim_info_df.apply(lambda row: indices_per_name[row[\"img_name\"]], axis=1)\n",
    "    uniq_img_fps = find_full_image_paths(stimuli_dir, unique_imgnames)\n",
    "    \n",
    "    # make the image dataset\n",
    "    # stimuli_dataset = ImagePathDataset(list(uniq_img_fps.values()), scores=None, img_dim=(256, 256))\n",
    "\n",
    "    # Calculate responses\n",
    "    resp_info = calculate_neural_responses(rasters, prefchan_id)\n",
    "    prefchan_resp_sgtr = resp_info[\"prefchan_resp_sgtr\"]\n",
    "    prefchan_bsl_mean = resp_info[\"prefchan_bsl_mean\"]\n",
    "    prefchan_bsl_sem = resp_info[\"prefchan_bsl_sem\"]\n",
    "    \n",
    "    # Create response dataframe\n",
    "    sgtr_resp_df = pd.DataFrame({\"img_name\": imageName, \"pref_unit_resp\": prefchan_resp_sgtr[:, 0]})\n",
    "    # drop the index as trial_id\n",
    "    sgtr_resp_df[\"trial_id\"] = sgtr_resp_df.index\n",
    "    # annotate the response dataframe with the stimulus information by merging on the image name\n",
    "    sgtr_resp_df = sgtr_resp_df.merge(stim_info_df.drop(columns=['trial_ids']), on=\"img_name\")\n",
    "    # compute the average response per space and eigenvector\n",
    "    pref_avgresp_df = sgtr_resp_df.groupby(['space_name', 'eig_id', 'lin_dist']).agg({'pref_unit_resp': 'mean'}).reset_index()\n",
    "    pref_avg_resp_class = pref_avgresp_df.query(f\"space_name == 'class'\")\n",
    "    pref_avg_resp_noise = pref_avgresp_df.query(f\"space_name == 'noise'\")\n",
    "    pref_avg_resp_noise_mat = pref_avg_resp_noise.pivot(index='eig_id', columns='lin_dist', values='pref_unit_resp')\n",
    "    pref_avg_resp_class_mat = pref_avg_resp_class.pivot(index='eig_id', columns='lin_dist', values='pref_unit_resp')\n",
    "    # origin stats \n",
    "    sgtr_resp_at_origin = sgtr_resp_df.query(f\"lin_dist == 0.0\")\n",
    "    tuning_stats_col = []\n",
    "    for space in [\"class\", \"noise\"]:\n",
    "        sgtr_resp_per_space = sgtr_resp_df.query(f\"space_name == '{space}'\")\n",
    "        unique_eig_ids = sorted(sgtr_resp_per_space['eig_id'].unique())\n",
    "        num_eig_ids = len(unique_eig_ids)\n",
    "        # collect the info for lin_dist == 0 \n",
    "        for i, eig_id in enumerate(unique_eig_ids):\n",
    "            subset = sgtr_resp_per_space[sgtr_resp_per_space['eig_id'] == eig_id]\n",
    "            unique_lin_dists = sorted(subset.lin_dist.unique())\n",
    "            if 0.0 not in unique_lin_dists:\n",
    "                # if 0.0 not in this set, augment the subset with the origin stats. \n",
    "                # TODO: design decision, augment only with the origin stats with this space or both space. \n",
    "                subset = pd.concat([subset, sgtr_resp_at_origin.query(f\"space_name == '{space}'\")])\n",
    "                unique_lin_dists = sorted(subset.lin_dist.unique())\n",
    "                # raise ValueError(f\"unique_lin_dists: {unique_lin_dists}\")\n",
    "            F_value = None\n",
    "            p_value = None\n",
    "            stats_str = \"\"\n",
    "            if len(unique_lin_dists) > 1:\n",
    "                # Perform ANOVA, only if there are more than 1 data point\n",
    "                try:\n",
    "                    model = ols('pref_unit_resp ~ C(lin_dist)', data=subset).fit()\n",
    "                    anova_table = sm.stats.anova_lm(model, typ=2)\n",
    "                    F_value = anova_table.loc['C(lin_dist)', 'F']\n",
    "                    p_value = anova_table.loc['C(lin_dist)', 'PR(>F)']\n",
    "                    stats_str = f\"F-val: {F_value:.2f} | p-val: {p_value:.1e}\"\n",
    "                except Exception as e:\n",
    "                    print(f\"Error performing ANOVA for eig_id {eig_id}: {e}\")\n",
    "                    stats_str = \"\"\n",
    "            # find avg resp for each lin_dist\n",
    "            avg_resp_per_lin_dist = subset.groupby('lin_dist').agg({'pref_unit_resp': 'mean'}).reset_index().sort_values(by='lin_dist')\n",
    "            # find lin_dist with max resp\n",
    "            max_resp_lin_dist = avg_resp_per_lin_dist.loc[avg_resp_per_lin_dist['pref_unit_resp'].idxmax(), 'lin_dist']\n",
    "            max_resp_val = avg_resp_per_lin_dist.loc[avg_resp_per_lin_dist['pref_unit_resp'].idxmax(), 'pref_unit_resp']\n",
    "            stats_dict = {\"space_name\": space, \"eig_id\": eig_id, \"F_value\": F_value, \"p_value\": p_value, \"stats_str\": stats_str, \n",
    "                          \"lin_dist_set\": unique_lin_dists, \"lin_dist_num\": len(unique_lin_dists), \n",
    "                          \"avg_resp_per_lin_dist\": avg_resp_per_lin_dist[\"pref_unit_resp\"].values.tolist(),\n",
    "                          \"max_resp_lin_dist\": max_resp_lin_dist, \"max_resp_val\": max_resp_val}\n",
    "            tuning_stats_col.append(stats_dict)\n",
    "    \n",
    "    tuning_stats_df = pd.DataFrame(tuning_stats_col)\n",
    "    tuning_stats_df[\"Animal\"] = exprow.Animal\n",
    "    tuning_stats_df[\"Expi\"] = exprow.Expi\n",
    "    tuning_stats_df[\"ephysFN\"] = exprow.ephysFN\n",
    "    tuning_stats_df[\"stimuli\"] = exprow.stimuli\n",
    "    tuning_stats_df[\"prefchan\"] = exprow.pref_chan\n",
    "    tuning_stats_df[\"prefunit\"] = exprow.pref_unit\n",
    "    tuning_stats_df[\"prefchan_str\"] = prefchan_str\n",
    "    tuning_stats_df[\"prefchan_bsl_mean\"] = prefchan_bsl_mean.item()\n",
    "    tuning_stats_df[\"prefchan_bsl_sem\"] = prefchan_bsl_sem.item()\n",
    "    tuning_stats_df.to_csv(join(figdir, f\"tuning_curves_stats_df_fill_missing.csv\"), index=False)\n",
    "    tuning_stats_synopsis.append(tuning_stats_df)\n",
    "    sgtr_resp_df.to_csv(join(figdir, f\"single_trial_pref_unit_resp.csv\"), index=False)\n",
    "#%%\n",
    "syndir = join(figroot, \"synopsis\")\n",
    "os.makedirs(syndir, exist_ok=True)\n",
    "tuning_stats_synopsis_df = pd.concat(tuning_stats_synopsis, ignore_index=True)\n",
    "tuning_stats_synopsis_df.to_csv(join(syndir, f\"ABCD_tuning_stats_synopsis_fill_missing.csv\"), index=False)\n",
    "tuning_stats_synopsis_df.to_pickle(join(syndir, f\"ABCD_tuning_stats_synopsis_fill_missing.pkl\"))\n"
   ]
  },
  {
   "cell_type": "markdown",
   "metadata": {},
   "source": [
    "### Examine the adaptation effects"
   ]
  },
  {
   "cell_type": "code",
   "execution_count": 15,
   "metadata": {},
   "outputs": [
    {
     "name": "stdout",
     "output_type": "stream",
     "text": [
      "                            OLS Regression Results                            \n",
      "==============================================================================\n",
      "Dep. Variable:         pref_unit_resp   R-squared:                       0.000\n",
      "Model:                            OLS   Adj. R-squared:                 -0.006\n",
      "Method:                 Least Squares   F-statistic:                   0.05104\n",
      "Date:                Mon, 23 Dec 2024   Prob (F-statistic):              0.822\n",
      "Time:                        15:36:11   Log-Likelihood:                -703.98\n",
      "No. Observations:                 155   AIC:                             1412.\n",
      "Df Residuals:                     153   BIC:                             1418.\n",
      "Df Model:                           1                                         \n",
      "Covariance Type:            nonrobust                                         \n",
      "==============================================================================\n",
      "                 coef    std err          t      P>|t|      [0.025      0.975]\n",
      "------------------------------------------------------------------------------\n",
      "Intercept     74.5593      3.637     20.503      0.000      67.375      81.744\n",
      "trial_id      -0.0010      0.005     -0.226      0.822      -0.010       0.008\n",
      "==============================================================================\n",
      "Omnibus:                        1.986   Durbin-Watson:                   2.029\n",
      "Prob(Omnibus):                  0.371   Jarque-Bera (JB):                2.045\n",
      "Skew:                           0.243   Prob(JB):                        0.360\n",
      "Kurtosis:                       2.716   Cond. No.                     1.56e+03\n",
      "==============================================================================\n",
      "\n",
      "Notes:\n",
      "[1] Standard Errors assume that the covariance matrix of the errors is correctly specified.\n",
      "[2] The condition number is large, 1.56e+03. This might indicate that there are\n",
      "strong multicollinearity or other numerical problems.\n"
     ]
    },
    {
     "data": {
      "image/png": "[encoded data removed]",
      "text/plain": [
       "<Figure size 640x480 with 1 Axes>"
      ]
     },
     "metadata": {},
     "output_type": "display_data"
    }
   ],
   "source": [
    "# examine the adaptation effect by linear model of resp vs trial_id as regression variable\n",
    "sgtr_resp_df = pd.read_csv(join(figdir, f\"single_trial_pref_unit_resp.csv\"))\n",
    "sns.lineplot(data=sgtr_resp_df.query(f\"lin_dist == 0.0\"), x=\"trial_id\", y=\"pref_unit_resp\", marker=\"o\", alpha=0.6)\n",
    "model = ols('pref_unit_resp ~ trial_id', data=sgtr_resp_df.query(f\"lin_dist == 0.0\")).fit()\n",
    "print(model.summary())\n",
    "# draw the model fit\n",
    "sns.lineplot(x=sgtr_resp_df.query(f\"lin_dist == 0.0\")[\"trial_id\"], y=model.fittedvalues, color=\"red\")\n",
    "\n",
    "# add a title to display the regression coef for trial_id and the tvalue and pvalue. R2\n",
    "coef = model.params['trial_id']\n",
    "tvalue = model.tvalues['trial_id']\n",
    "pvalue = model.pvalues['trial_id']\n",
    "r2 = model.rsquared\n",
    "plt.title(f\"Coef: {coef:.2f} | t-value: {tvalue:.2f} | p-value: {pvalue:.1e} | R2: {r2:.2f}\")\n",
    "plt.show()"
   ]
  },
  {
   "cell_type": "code",
   "execution_count": 5,
   "metadata": {},
   "outputs": [
    {
     "data": {
      "image/png": "[encoded data removed]",
      "text/plain": [
       "<Figure size 640x480 with 1 Axes>"
      ]
     },
     "metadata": {},
     "output_type": "display_data"
    }
   ],
   "source": [
    "plt.plot(sgtr_resp_df.query(f\"lin_dist == 0.0\")[\"pref_unit_resp\"])\n",
    "plt.show()"
   ]
  },
  {
   "cell_type": "code",
   "execution_count": 3,
   "metadata": {},
   "outputs": [
    {
     "data": {
      "text/html": [
       "<div>\n",
       "<style scoped>\n",
       "    .dataframe tbody tr th:only-of-type {\n",
       "        vertical-align: middle;\n",
       "    }\n",
       "\n",
       "    .dataframe tbody tr th {\n",
       "        vertical-align: top;\n",
       "    }\n",
       "\n",
       "    .dataframe thead th {\n",
       "        text-align: right;\n",
       "    }\n",
       "</style>\n",
       "<table border=\"1\" class=\"dataframe\">\n",
       "  <thead>\n",
       "    <tr style=\"text-align: right;\">\n",
       "      <th></th>\n",
       "      <th>img_name</th>\n",
       "      <th>pref_unit_resp</th>\n",
       "      <th>space_name</th>\n",
       "      <th>eig_id</th>\n",
       "      <th>lin_dist</th>\n",
       "      <th>hessian_img</th>\n",
       "    </tr>\n",
       "  </thead>\n",
       "  <tbody>\n",
       "    <tr>\n",
       "      <th>0</th>\n",
       "      <td>class_eig1_lin0.40</td>\n",
       "      <td>136.595154</td>\n",
       "      <td>class</td>\n",
       "      <td>1</td>\n",
       "      <td>0.40</td>\n",
       "      <td>True</td>\n",
       "    </tr>\n",
       "    <tr>\n",
       "      <th>1</th>\n",
       "      <td>class_eig1_lin0.24</td>\n",
       "      <td>137.118378</td>\n",
       "      <td>class</td>\n",
       "      <td>1</td>\n",
       "      <td>0.24</td>\n",
       "      <td>True</td>\n",
       "    </tr>\n",
       "    <tr>\n",
       "      <th>2</th>\n",
       "      <td>class_eig0_lin0.40</td>\n",
       "      <td>120.057068</td>\n",
       "      <td>class</td>\n",
       "      <td>0</td>\n",
       "      <td>0.40</td>\n",
       "      <td>True</td>\n",
       "    </tr>\n",
       "    <tr>\n",
       "      <th>4</th>\n",
       "      <td>class_eig1_lin-0.16</td>\n",
       "      <td>79.918022</td>\n",
       "      <td>class</td>\n",
       "      <td>1</td>\n",
       "      <td>-0.16</td>\n",
       "      <td>True</td>\n",
       "    </tr>\n",
       "    <tr>\n",
       "      <th>8</th>\n",
       "      <td>class_eig0_lin0.32</td>\n",
       "      <td>80.724617</td>\n",
       "      <td>class</td>\n",
       "      <td>0</td>\n",
       "      <td>0.32</td>\n",
       "      <td>True</td>\n",
       "    </tr>\n",
       "    <tr>\n",
       "      <th>10</th>\n",
       "      <td>class_eig0_lin-0.24</td>\n",
       "      <td>66.613129</td>\n",
       "      <td>class</td>\n",
       "      <td>0</td>\n",
       "      <td>-0.24</td>\n",
       "      <td>True</td>\n",
       "    </tr>\n",
       "    <tr>\n",
       "      <th>12</th>\n",
       "      <td>class_eig0_lin-0.32</td>\n",
       "      <td>114.635506</td>\n",
       "      <td>class</td>\n",
       "      <td>0</td>\n",
       "      <td>-0.32</td>\n",
       "      <td>True</td>\n",
       "    </tr>\n",
       "    <tr>\n",
       "      <th>14</th>\n",
       "      <td>class_eig1_lin-0.40</td>\n",
       "      <td>73.243462</td>\n",
       "      <td>class</td>\n",
       "      <td>1</td>\n",
       "      <td>-0.40</td>\n",
       "      <td>True</td>\n",
       "    </tr>\n",
       "    <tr>\n",
       "      <th>15</th>\n",
       "      <td>class_eig1_lin0.32</td>\n",
       "      <td>88.557976</td>\n",
       "      <td>class</td>\n",
       "      <td>1</td>\n",
       "      <td>0.32</td>\n",
       "      <td>True</td>\n",
       "    </tr>\n",
       "    <tr>\n",
       "      <th>16</th>\n",
       "      <td>class_eig0_lin0.16</td>\n",
       "      <td>80.602936</td>\n",
       "      <td>class</td>\n",
       "      <td>0</td>\n",
       "      <td>0.16</td>\n",
       "      <td>True</td>\n",
       "    </tr>\n",
       "    <tr>\n",
       "      <th>17</th>\n",
       "      <td>class_eig0_lin0.00</td>\n",
       "      <td>60.745106</td>\n",
       "      <td>class</td>\n",
       "      <td>0</td>\n",
       "      <td>0.00</td>\n",
       "      <td>True</td>\n",
       "    </tr>\n",
       "    <tr>\n",
       "      <th>19</th>\n",
       "      <td>class_eig0_lin-0.16</td>\n",
       "      <td>60.623436</td>\n",
       "      <td>class</td>\n",
       "      <td>0</td>\n",
       "      <td>-0.16</td>\n",
       "      <td>True</td>\n",
       "    </tr>\n",
       "    <tr>\n",
       "      <th>20</th>\n",
       "      <td>class_eig1_lin-0.24</td>\n",
       "      <td>57.273537</td>\n",
       "      <td>class</td>\n",
       "      <td>1</td>\n",
       "      <td>-0.24</td>\n",
       "      <td>True</td>\n",
       "    </tr>\n",
       "    <tr>\n",
       "      <th>21</th>\n",
       "      <td>class_eig0_lin-0.40</td>\n",
       "      <td>145.384933</td>\n",
       "      <td>class</td>\n",
       "      <td>0</td>\n",
       "      <td>-0.40</td>\n",
       "      <td>True</td>\n",
       "    </tr>\n",
       "    <tr>\n",
       "      <th>22</th>\n",
       "      <td>class_eig0_lin0.24</td>\n",
       "      <td>71.081879</td>\n",
       "      <td>class</td>\n",
       "      <td>0</td>\n",
       "      <td>0.24</td>\n",
       "      <td>True</td>\n",
       "    </tr>\n",
       "    <tr>\n",
       "      <th>23</th>\n",
       "      <td>class_eig1_lin-0.32</td>\n",
       "      <td>39.959042</td>\n",
       "      <td>class</td>\n",
       "      <td>1</td>\n",
       "      <td>-0.32</td>\n",
       "      <td>True</td>\n",
       "    </tr>\n",
       "    <tr>\n",
       "      <th>24</th>\n",
       "      <td>class_eig1_lin0.16</td>\n",
       "      <td>66.598373</td>\n",
       "      <td>class</td>\n",
       "      <td>1</td>\n",
       "      <td>0.16</td>\n",
       "      <td>True</td>\n",
       "    </tr>\n",
       "    <tr>\n",
       "      <th>28</th>\n",
       "      <td>class_eig1_lin-0.32</td>\n",
       "      <td>99.139465</td>\n",
       "      <td>class</td>\n",
       "      <td>1</td>\n",
       "      <td>-0.32</td>\n",
       "      <td>True</td>\n",
       "    </tr>\n",
       "    <tr>\n",
       "      <th>29</th>\n",
       "      <td>class_eig1_lin-0.40</td>\n",
       "      <td>46.872051</td>\n",
       "      <td>class</td>\n",
       "      <td>1</td>\n",
       "      <td>-0.40</td>\n",
       "      <td>True</td>\n",
       "    </tr>\n",
       "    <tr>\n",
       "      <th>30</th>\n",
       "      <td>class_eig0_lin-0.24</td>\n",
       "      <td>110.805389</td>\n",
       "      <td>class</td>\n",
       "      <td>0</td>\n",
       "      <td>-0.24</td>\n",
       "      <td>True</td>\n",
       "    </tr>\n",
       "    <tr>\n",
       "      <th>33</th>\n",
       "      <td>class_eig1_lin0.24</td>\n",
       "      <td>93.237724</td>\n",
       "      <td>class</td>\n",
       "      <td>1</td>\n",
       "      <td>0.24</td>\n",
       "      <td>True</td>\n",
       "    </tr>\n",
       "    <tr>\n",
       "      <th>34</th>\n",
       "      <td>class_eig0_lin0.32</td>\n",
       "      <td>83.912857</td>\n",
       "      <td>class</td>\n",
       "      <td>0</td>\n",
       "      <td>0.32</td>\n",
       "      <td>True</td>\n",
       "    </tr>\n",
       "    <tr>\n",
       "      <th>35</th>\n",
       "      <td>class_eig0_lin0.00</td>\n",
       "      <td>53.531891</td>\n",
       "      <td>class</td>\n",
       "      <td>0</td>\n",
       "      <td>0.00</td>\n",
       "      <td>True</td>\n",
       "    </tr>\n",
       "    <tr>\n",
       "      <th>37</th>\n",
       "      <td>class_eig1_lin-0.40</td>\n",
       "      <td>73.243423</td>\n",
       "      <td>class</td>\n",
       "      <td>1</td>\n",
       "      <td>-0.40</td>\n",
       "      <td>True</td>\n",
       "    </tr>\n",
       "    <tr>\n",
       "      <th>38</th>\n",
       "      <td>class_eig0_lin0.16</td>\n",
       "      <td>86.504684</td>\n",
       "      <td>class</td>\n",
       "      <td>0</td>\n",
       "      <td>0.16</td>\n",
       "      <td>True</td>\n",
       "    </tr>\n",
       "    <tr>\n",
       "      <th>40</th>\n",
       "      <td>class_eig1_lin0.40</td>\n",
       "      <td>93.237717</td>\n",
       "      <td>class</td>\n",
       "      <td>1</td>\n",
       "      <td>0.40</td>\n",
       "      <td>True</td>\n",
       "    </tr>\n",
       "    <tr>\n",
       "      <th>42</th>\n",
       "      <td>class_eig1_lin0.32</td>\n",
       "      <td>112.517563</td>\n",
       "      <td>class</td>\n",
       "      <td>1</td>\n",
       "      <td>0.32</td>\n",
       "      <td>True</td>\n",
       "    </tr>\n",
       "    <tr>\n",
       "      <th>43</th>\n",
       "      <td>class_eig0_lin-0.32</td>\n",
       "      <td>119.950272</td>\n",
       "      <td>class</td>\n",
       "      <td>0</td>\n",
       "      <td>-0.32</td>\n",
       "      <td>True</td>\n",
       "    </tr>\n",
       "    <tr>\n",
       "      <th>46</th>\n",
       "      <td>class_eig0_lin-0.24</td>\n",
       "      <td>86.577888</td>\n",
       "      <td>class</td>\n",
       "      <td>0</td>\n",
       "      <td>-0.24</td>\n",
       "      <td>True</td>\n",
       "    </tr>\n",
       "    <tr>\n",
       "      <th>47</th>\n",
       "      <td>class_eig1_lin-0.32</td>\n",
       "      <td>39.944267</td>\n",
       "      <td>class</td>\n",
       "      <td>1</td>\n",
       "      <td>-0.32</td>\n",
       "      <td>True</td>\n",
       "    </tr>\n",
       "    <tr>\n",
       "      <th>48</th>\n",
       "      <td>class_eig0_lin0.40</td>\n",
       "      <td>69.501816</td>\n",
       "      <td>class</td>\n",
       "      <td>0</td>\n",
       "      <td>0.40</td>\n",
       "      <td>True</td>\n",
       "    </tr>\n",
       "    <tr>\n",
       "      <th>50</th>\n",
       "      <td>class_eig0_lin0.24</td>\n",
       "      <td>73.258179</td>\n",
       "      <td>class</td>\n",
       "      <td>0</td>\n",
       "      <td>0.24</td>\n",
       "      <td>True</td>\n",
       "    </tr>\n",
       "    <tr>\n",
       "      <th>51</th>\n",
       "      <td>class_eig1_lin-0.16</td>\n",
       "      <td>75.923187</td>\n",
       "      <td>class</td>\n",
       "      <td>1</td>\n",
       "      <td>-0.16</td>\n",
       "      <td>True</td>\n",
       "    </tr>\n",
       "    <tr>\n",
       "      <th>53</th>\n",
       "      <td>class_eig1_lin-0.24</td>\n",
       "      <td>91.746269</td>\n",
       "      <td>class</td>\n",
       "      <td>1</td>\n",
       "      <td>-0.24</td>\n",
       "      <td>True</td>\n",
       "    </tr>\n",
       "    <tr>\n",
       "      <th>54</th>\n",
       "      <td>class_eig0_lin-0.40</td>\n",
       "      <td>106.557404</td>\n",
       "      <td>class</td>\n",
       "      <td>0</td>\n",
       "      <td>-0.40</td>\n",
       "      <td>True</td>\n",
       "    </tr>\n",
       "    <tr>\n",
       "      <th>55</th>\n",
       "      <td>class_eig0_lin-0.16</td>\n",
       "      <td>113.217255</td>\n",
       "      <td>class</td>\n",
       "      <td>0</td>\n",
       "      <td>-0.16</td>\n",
       "      <td>True</td>\n",
       "    </tr>\n",
       "    <tr>\n",
       "      <th>56</th>\n",
       "      <td>class_eig1_lin0.16</td>\n",
       "      <td>86.577881</td>\n",
       "      <td>class</td>\n",
       "      <td>1</td>\n",
       "      <td>0.16</td>\n",
       "      <td>True</td>\n",
       "    </tr>\n",
       "    <tr>\n",
       "      <th>57</th>\n",
       "      <td>class_eig1_lin-0.32</td>\n",
       "      <td>132.943604</td>\n",
       "      <td>class</td>\n",
       "      <td>1</td>\n",
       "      <td>-0.32</td>\n",
       "      <td>True</td>\n",
       "    </tr>\n",
       "    <tr>\n",
       "      <th>58</th>\n",
       "      <td>class_eig0_lin-0.32</td>\n",
       "      <td>74.749664</td>\n",
       "      <td>class</td>\n",
       "      <td>0</td>\n",
       "      <td>-0.32</td>\n",
       "      <td>True</td>\n",
       "    </tr>\n",
       "    <tr>\n",
       "      <th>59</th>\n",
       "      <td>class_eig0_lin-0.40</td>\n",
       "      <td>102.832611</td>\n",
       "      <td>class</td>\n",
       "      <td>0</td>\n",
       "      <td>-0.40</td>\n",
       "      <td>True</td>\n",
       "    </tr>\n",
       "    <tr>\n",
       "      <th>60</th>\n",
       "      <td>class_eig1_lin-0.40</td>\n",
       "      <td>75.002853</td>\n",
       "      <td>class</td>\n",
       "      <td>1</td>\n",
       "      <td>-0.40</td>\n",
       "      <td>True</td>\n",
       "    </tr>\n",
       "    <tr>\n",
       "      <th>61</th>\n",
       "      <td>class_eig1_lin0.40</td>\n",
       "      <td>100.762451</td>\n",
       "      <td>class</td>\n",
       "      <td>1</td>\n",
       "      <td>0.40</td>\n",
       "      <td>True</td>\n",
       "    </tr>\n",
       "    <tr>\n",
       "      <th>62</th>\n",
       "      <td>class_eig1_lin-0.16</td>\n",
       "      <td>91.731491</td>\n",
       "      <td>class</td>\n",
       "      <td>1</td>\n",
       "      <td>-0.16</td>\n",
       "      <td>True</td>\n",
       "    </tr>\n",
       "    <tr>\n",
       "      <th>64</th>\n",
       "      <td>class_eig0_lin0.32</td>\n",
       "      <td>61.430012</td>\n",
       "      <td>class</td>\n",
       "      <td>0</td>\n",
       "      <td>0.32</td>\n",
       "      <td>True</td>\n",
       "    </tr>\n",
       "    <tr>\n",
       "      <th>65</th>\n",
       "      <td>class_eig1_lin0.16</td>\n",
       "      <td>111.740509</td>\n",
       "      <td>class</td>\n",
       "      <td>1</td>\n",
       "      <td>0.16</td>\n",
       "      <td>True</td>\n",
       "    </tr>\n",
       "    <tr>\n",
       "      <th>67</th>\n",
       "      <td>class_eig0_lin0.16</td>\n",
       "      <td>74.822830</td>\n",
       "      <td>class</td>\n",
       "      <td>0</td>\n",
       "      <td>0.16</td>\n",
       "      <td>True</td>\n",
       "    </tr>\n",
       "    <tr>\n",
       "      <th>68</th>\n",
       "      <td>class_eig0_lin-0.16</td>\n",
       "      <td>73.258186</td>\n",
       "      <td>class</td>\n",
       "      <td>0</td>\n",
       "      <td>-0.16</td>\n",
       "      <td>True</td>\n",
       "    </tr>\n",
       "    <tr>\n",
       "      <th>69</th>\n",
       "      <td>class_eig1_lin0.24</td>\n",
       "      <td>59.685383</td>\n",
       "      <td>class</td>\n",
       "      <td>1</td>\n",
       "      <td>0.24</td>\n",
       "      <td>True</td>\n",
       "    </tr>\n",
       "    <tr>\n",
       "      <th>72</th>\n",
       "      <td>class_eig1_lin-0.24</td>\n",
       "      <td>96.979370</td>\n",
       "      <td>class</td>\n",
       "      <td>1</td>\n",
       "      <td>-0.24</td>\n",
       "      <td>True</td>\n",
       "    </tr>\n",
       "    <tr>\n",
       "      <th>73</th>\n",
       "      <td>class_eig0_lin0.24</td>\n",
       "      <td>120.561981</td>\n",
       "      <td>class</td>\n",
       "      <td>0</td>\n",
       "      <td>0.24</td>\n",
       "      <td>True</td>\n",
       "    </tr>\n",
       "    <tr>\n",
       "      <th>75</th>\n",
       "      <td>class_eig0_lin0.40</td>\n",
       "      <td>79.233109</td>\n",
       "      <td>class</td>\n",
       "      <td>0</td>\n",
       "      <td>0.40</td>\n",
       "      <td>True</td>\n",
       "    </tr>\n",
       "    <tr>\n",
       "      <th>78</th>\n",
       "      <td>class_eig0_lin0.00</td>\n",
       "      <td>75.923225</td>\n",
       "      <td>class</td>\n",
       "      <td>0</td>\n",
       "      <td>0.00</td>\n",
       "      <td>True</td>\n",
       "    </tr>\n",
       "    <tr>\n",
       "      <th>79</th>\n",
       "      <td>class_eig0_lin-0.24</td>\n",
       "      <td>86.577881</td>\n",
       "      <td>class</td>\n",
       "      <td>0</td>\n",
       "      <td>-0.24</td>\n",
       "      <td>True</td>\n",
       "    </tr>\n",
       "    <tr>\n",
       "      <th>80</th>\n",
       "      <td>class_eig1_lin0.32</td>\n",
       "      <td>113.217278</td>\n",
       "      <td>class</td>\n",
       "      <td>1</td>\n",
       "      <td>0.32</td>\n",
       "      <td>True</td>\n",
       "    </tr>\n",
       "    <tr>\n",
       "      <th>83</th>\n",
       "      <td>class_eig0_lin-0.24</td>\n",
       "      <td>125.715584</td>\n",
       "      <td>class</td>\n",
       "      <td>0</td>\n",
       "      <td>-0.24</td>\n",
       "      <td>True</td>\n",
       "    </tr>\n",
       "    <tr>\n",
       "      <th>85</th>\n",
       "      <td>class_eig1_lin-0.16</td>\n",
       "      <td>45.362270</td>\n",
       "      <td>class</td>\n",
       "      <td>1</td>\n",
       "      <td>-0.16</td>\n",
       "      <td>True</td>\n",
       "    </tr>\n",
       "    <tr>\n",
       "      <th>86</th>\n",
       "      <td>class_eig0_lin0.16</td>\n",
       "      <td>86.577843</td>\n",
       "      <td>class</td>\n",
       "      <td>0</td>\n",
       "      <td>0.16</td>\n",
       "      <td>True</td>\n",
       "    </tr>\n",
       "    <tr>\n",
       "      <th>87</th>\n",
       "      <td>class_eig1_lin-0.24</td>\n",
       "      <td>113.217255</td>\n",
       "      <td>class</td>\n",
       "      <td>1</td>\n",
       "      <td>-0.24</td>\n",
       "      <td>True</td>\n",
       "    </tr>\n",
       "    <tr>\n",
       "      <th>88</th>\n",
       "      <td>class_eig0_lin0.00</td>\n",
       "      <td>66.598389</td>\n",
       "      <td>class</td>\n",
       "      <td>0</td>\n",
       "      <td>0.00</td>\n",
       "      <td>True</td>\n",
       "    </tr>\n",
       "    <tr>\n",
       "      <th>89</th>\n",
       "      <td>class_eig1_lin0.32</td>\n",
       "      <td>92.552826</td>\n",
       "      <td>class</td>\n",
       "      <td>1</td>\n",
       "      <td>0.32</td>\n",
       "      <td>True</td>\n",
       "    </tr>\n",
       "    <tr>\n",
       "      <th>90</th>\n",
       "      <td>class_eig1_lin0.16</td>\n",
       "      <td>86.577873</td>\n",
       "      <td>class</td>\n",
       "      <td>1</td>\n",
       "      <td>0.16</td>\n",
       "      <td>True</td>\n",
       "    </tr>\n",
       "    <tr>\n",
       "      <th>91</th>\n",
       "      <td>class_eig0_lin0.16</td>\n",
       "      <td>86.577843</td>\n",
       "      <td>class</td>\n",
       "      <td>0</td>\n",
       "      <td>0.16</td>\n",
       "      <td>True</td>\n",
       "    </tr>\n",
       "    <tr>\n",
       "      <th>92</th>\n",
       "      <td>class_eig1_lin0.24</td>\n",
       "      <td>126.536942</td>\n",
       "      <td>class</td>\n",
       "      <td>1</td>\n",
       "      <td>0.24</td>\n",
       "      <td>True</td>\n",
       "    </tr>\n",
       "    <tr>\n",
       "      <th>94</th>\n",
       "      <td>class_eig1_lin-0.40</td>\n",
       "      <td>86.577904</td>\n",
       "      <td>class</td>\n",
       "      <td>1</td>\n",
       "      <td>-0.40</td>\n",
       "      <td>True</td>\n",
       "    </tr>\n",
       "    <tr>\n",
       "      <th>95</th>\n",
       "      <td>class_eig0_lin0.24</td>\n",
       "      <td>68.089844</td>\n",
       "      <td>class</td>\n",
       "      <td>0</td>\n",
       "      <td>0.24</td>\n",
       "      <td>True</td>\n",
       "    </tr>\n",
       "    <tr>\n",
       "      <th>96</th>\n",
       "      <td>class_eig0_lin-0.32</td>\n",
       "      <td>86.504639</td>\n",
       "      <td>class</td>\n",
       "      <td>0</td>\n",
       "      <td>-0.32</td>\n",
       "      <td>True</td>\n",
       "    </tr>\n",
       "    <tr>\n",
       "      <th>98</th>\n",
       "      <td>class_eig1_lin-0.16</td>\n",
       "      <td>68.089828</td>\n",
       "      <td>class</td>\n",
       "      <td>1</td>\n",
       "      <td>-0.16</td>\n",
       "      <td>True</td>\n",
       "    </tr>\n",
       "    <tr>\n",
       "      <th>102</th>\n",
       "      <td>class_eig1_lin0.40</td>\n",
       "      <td>113.037308</td>\n",
       "      <td>class</td>\n",
       "      <td>1</td>\n",
       "      <td>0.40</td>\n",
       "      <td>True</td>\n",
       "    </tr>\n",
       "    <tr>\n",
       "      <th>105</th>\n",
       "      <td>class_eig0_lin-0.40</td>\n",
       "      <td>73.019814</td>\n",
       "      <td>class</td>\n",
       "      <td>0</td>\n",
       "      <td>-0.40</td>\n",
       "      <td>True</td>\n",
       "    </tr>\n",
       "    <tr>\n",
       "      <th>106</th>\n",
       "      <td>class_eig0_lin-0.16</td>\n",
       "      <td>92.552818</td>\n",
       "      <td>class</td>\n",
       "      <td>0</td>\n",
       "      <td>-0.16</td>\n",
       "      <td>True</td>\n",
       "    </tr>\n",
       "    <tr>\n",
       "      <th>108</th>\n",
       "      <td>class_eig1_lin-0.32</td>\n",
       "      <td>51.787254</td>\n",
       "      <td>class</td>\n",
       "      <td>1</td>\n",
       "      <td>-0.32</td>\n",
       "      <td>True</td>\n",
       "    </tr>\n",
       "    <tr>\n",
       "      <th>109</th>\n",
       "      <td>class_eig0_lin-0.24</td>\n",
       "      <td>99.897575</td>\n",
       "      <td>class</td>\n",
       "      <td>0</td>\n",
       "      <td>-0.24</td>\n",
       "      <td>True</td>\n",
       "    </tr>\n",
       "    <tr>\n",
       "      <th>110</th>\n",
       "      <td>class_eig0_lin0.40</td>\n",
       "      <td>130.531784</td>\n",
       "      <td>class</td>\n",
       "      <td>0</td>\n",
       "      <td>0.40</td>\n",
       "      <td>True</td>\n",
       "    </tr>\n",
       "    <tr>\n",
       "      <th>111</th>\n",
       "      <td>class_eig0_lin0.32</td>\n",
       "      <td>86.577881</td>\n",
       "      <td>class</td>\n",
       "      <td>0</td>\n",
       "      <td>0.32</td>\n",
       "      <td>True</td>\n",
       "    </tr>\n",
       "    <tr>\n",
       "      <th>113</th>\n",
       "      <td>class_eig0_lin-0.40</td>\n",
       "      <td>119.877045</td>\n",
       "      <td>class</td>\n",
       "      <td>0</td>\n",
       "      <td>-0.40</td>\n",
       "      <td>True</td>\n",
       "    </tr>\n",
       "    <tr>\n",
       "      <th>117</th>\n",
       "      <td>class_eig0_lin0.32</td>\n",
       "      <td>41.450504</td>\n",
       "      <td>class</td>\n",
       "      <td>0</td>\n",
       "      <td>0.32</td>\n",
       "      <td>True</td>\n",
       "    </tr>\n",
       "    <tr>\n",
       "      <th>119</th>\n",
       "      <td>class_eig1_lin-0.40</td>\n",
       "      <td>102.757332</td>\n",
       "      <td>class</td>\n",
       "      <td>1</td>\n",
       "      <td>-0.40</td>\n",
       "      <td>True</td>\n",
       "    </tr>\n",
       "    <tr>\n",
       "      <th>120</th>\n",
       "      <td>class_eig1_lin-0.24</td>\n",
       "      <td>46.618877</td>\n",
       "      <td>class</td>\n",
       "      <td>1</td>\n",
       "      <td>-0.24</td>\n",
       "      <td>True</td>\n",
       "    </tr>\n",
       "    <tr>\n",
       "      <th>121</th>\n",
       "      <td>class_eig0_lin0.40</td>\n",
       "      <td>104.992699</td>\n",
       "      <td>class</td>\n",
       "      <td>0</td>\n",
       "      <td>0.40</td>\n",
       "      <td>True</td>\n",
       "    </tr>\n",
       "    <tr>\n",
       "      <th>122</th>\n",
       "      <td>class_eig0_lin0.16</td>\n",
       "      <td>85.086380</td>\n",
       "      <td>class</td>\n",
       "      <td>0</td>\n",
       "      <td>0.16</td>\n",
       "      <td>True</td>\n",
       "    </tr>\n",
       "    <tr>\n",
       "      <th>123</th>\n",
       "      <td>class_eig0_lin0.32</td>\n",
       "      <td>66.598404</td>\n",
       "      <td>class</td>\n",
       "      <td>0</td>\n",
       "      <td>0.32</td>\n",
       "      <td>True</td>\n",
       "    </tr>\n",
       "    <tr>\n",
       "      <th>125</th>\n",
       "      <td>class_eig1_lin-0.16</td>\n",
       "      <td>79.918045</td>\n",
       "      <td>class</td>\n",
       "      <td>1</td>\n",
       "      <td>-0.16</td>\n",
       "      <td>True</td>\n",
       "    </tr>\n",
       "    <tr>\n",
       "      <th>126</th>\n",
       "      <td>class_eig1_lin0.16</td>\n",
       "      <td>102.309372</td>\n",
       "      <td>class</td>\n",
       "      <td>1</td>\n",
       "      <td>0.16</td>\n",
       "      <td>True</td>\n",
       "    </tr>\n",
       "    <tr>\n",
       "      <th>127</th>\n",
       "      <td>class_eig1_lin0.32</td>\n",
       "      <td>99.897537</td>\n",
       "      <td>class</td>\n",
       "      <td>1</td>\n",
       "      <td>0.32</td>\n",
       "      <td>True</td>\n",
       "    </tr>\n",
       "    <tr>\n",
       "      <th>129</th>\n",
       "      <td>class_eig0_lin-0.24</td>\n",
       "      <td>60.623432</td>\n",
       "      <td>class</td>\n",
       "      <td>0</td>\n",
       "      <td>-0.24</td>\n",
       "      <td>True</td>\n",
       "    </tr>\n",
       "    <tr>\n",
       "      <th>130</th>\n",
       "      <td>class_eig0_lin-0.16</td>\n",
       "      <td>66.598366</td>\n",
       "      <td>class</td>\n",
       "      <td>0</td>\n",
       "      <td>-0.16</td>\n",
       "      <td>True</td>\n",
       "    </tr>\n",
       "    <tr>\n",
       "      <th>131</th>\n",
       "      <td>class_eig1_lin0.24</td>\n",
       "      <td>126.478516</td>\n",
       "      <td>class</td>\n",
       "      <td>1</td>\n",
       "      <td>0.24</td>\n",
       "      <td>True</td>\n",
       "    </tr>\n",
       "    <tr>\n",
       "      <th>132</th>\n",
       "      <td>class_eig0_lin-0.40</td>\n",
       "      <td>52.593826</td>\n",
       "      <td>class</td>\n",
       "      <td>0</td>\n",
       "      <td>-0.40</td>\n",
       "      <td>True</td>\n",
       "    </tr>\n",
       "    <tr>\n",
       "      <th>133</th>\n",
       "      <td>class_eig0_lin0.00</td>\n",
       "      <td>86.651039</td>\n",
       "      <td>class</td>\n",
       "      <td>0</td>\n",
       "      <td>0.00</td>\n",
       "      <td>True</td>\n",
       "    </tr>\n",
       "    <tr>\n",
       "      <th>136</th>\n",
       "      <td>class_eig1_lin-0.32</td>\n",
       "      <td>71.889816</td>\n",
       "      <td>class</td>\n",
       "      <td>1</td>\n",
       "      <td>-0.32</td>\n",
       "      <td>True</td>\n",
       "    </tr>\n",
       "    <tr>\n",
       "      <th>138</th>\n",
       "      <td>class_eig0_lin0.24</td>\n",
       "      <td>93.237732</td>\n",
       "      <td>class</td>\n",
       "      <td>0</td>\n",
       "      <td>0.24</td>\n",
       "      <td>True</td>\n",
       "    </tr>\n",
       "    <tr>\n",
       "      <th>140</th>\n",
       "      <td>class_eig1_lin0.40</td>\n",
       "      <td>72.573288</td>\n",
       "      <td>class</td>\n",
       "      <td>1</td>\n",
       "      <td>0.40</td>\n",
       "      <td>True</td>\n",
       "    </tr>\n",
       "    <tr>\n",
       "      <th>142</th>\n",
       "      <td>class_eig0_lin-0.32</td>\n",
       "      <td>60.370281</td>\n",
       "      <td>class</td>\n",
       "      <td>0</td>\n",
       "      <td>-0.32</td>\n",
       "      <td>True</td>\n",
       "    </tr>\n",
       "    <tr>\n",
       "      <th>144</th>\n",
       "      <td>class_eig1_lin-0.24</td>\n",
       "      <td>59.923775</td>\n",
       "      <td>class</td>\n",
       "      <td>1</td>\n",
       "      <td>-0.24</td>\n",
       "      <td>True</td>\n",
       "    </tr>\n",
       "    <tr>\n",
       "      <th>145</th>\n",
       "      <td>class_eig0_lin-0.16</td>\n",
       "      <td>86.577881</td>\n",
       "      <td>class</td>\n",
       "      <td>0</td>\n",
       "      <td>-0.16</td>\n",
       "      <td>True</td>\n",
       "    </tr>\n",
       "    <tr>\n",
       "      <th>147</th>\n",
       "      <td>class_eig1_lin0.40</td>\n",
       "      <td>75.670067</td>\n",
       "      <td>class</td>\n",
       "      <td>1</td>\n",
       "      <td>0.40</td>\n",
       "      <td>True</td>\n",
       "    </tr>\n",
       "    <tr>\n",
       "      <th>151</th>\n",
       "      <td>class_eig0_lin-0.32</td>\n",
       "      <td>87.247978</td>\n",
       "      <td>class</td>\n",
       "      <td>0</td>\n",
       "      <td>-0.32</td>\n",
       "      <td>True</td>\n",
       "    </tr>\n",
       "    <tr>\n",
       "      <th>153</th>\n",
       "      <td>class_eig0_lin0.32</td>\n",
       "      <td>62.603561</td>\n",
       "      <td>class</td>\n",
       "      <td>0</td>\n",
       "      <td>0.32</td>\n",
       "      <td>True</td>\n",
       "    </tr>\n",
       "    <tr>\n",
       "      <th>154</th>\n",
       "      <td>class_eig1_lin-0.32</td>\n",
       "      <td>106.557419</td>\n",
       "      <td>class</td>\n",
       "      <td>1</td>\n",
       "      <td>-0.32</td>\n",
       "      <td>True</td>\n",
       "    </tr>\n",
       "    <tr>\n",
       "      <th>155</th>\n",
       "      <td>class_eig0_lin0.00</td>\n",
       "      <td>55.943737</td>\n",
       "      <td>class</td>\n",
       "      <td>0</td>\n",
       "      <td>0.00</td>\n",
       "      <td>True</td>\n",
       "    </tr>\n",
       "    <tr>\n",
       "      <th>156</th>\n",
       "      <td>class_eig0_lin-0.40</td>\n",
       "      <td>73.005043</td>\n",
       "      <td>class</td>\n",
       "      <td>0</td>\n",
       "      <td>-0.40</td>\n",
       "      <td>True</td>\n",
       "    </tr>\n",
       "    <tr>\n",
       "      <th>157</th>\n",
       "      <td>class_eig0_lin0.40</td>\n",
       "      <td>99.853889</td>\n",
       "      <td>class</td>\n",
       "      <td>0</td>\n",
       "      <td>0.40</td>\n",
       "      <td>True</td>\n",
       "    </tr>\n",
       "    <tr>\n",
       "      <th>159</th>\n",
       "      <td>class_eig1_lin0.32</td>\n",
       "      <td>79.903290</td>\n",
       "      <td>class</td>\n",
       "      <td>1</td>\n",
       "      <td>0.32</td>\n",
       "      <td>True</td>\n",
       "    </tr>\n",
       "    <tr>\n",
       "      <th>161</th>\n",
       "      <td>class_eig1_lin-0.24</td>\n",
       "      <td>39.959042</td>\n",
       "      <td>class</td>\n",
       "      <td>1</td>\n",
       "      <td>-0.24</td>\n",
       "      <td>True</td>\n",
       "    </tr>\n",
       "    <tr>\n",
       "      <th>162</th>\n",
       "      <td>class_eig1_lin0.16</td>\n",
       "      <td>73.258217</td>\n",
       "      <td>class</td>\n",
       "      <td>1</td>\n",
       "      <td>0.16</td>\n",
       "      <td>True</td>\n",
       "    </tr>\n",
       "    <tr>\n",
       "      <th>163</th>\n",
       "      <td>class_eig1_lin0.24</td>\n",
       "      <td>54.843384</td>\n",
       "      <td>class</td>\n",
       "      <td>1</td>\n",
       "      <td>0.24</td>\n",
       "      <td>True</td>\n",
       "    </tr>\n",
       "    <tr>\n",
       "      <th>164</th>\n",
       "      <td>class_eig1_lin-0.40</td>\n",
       "      <td>86.577904</td>\n",
       "      <td>class</td>\n",
       "      <td>1</td>\n",
       "      <td>-0.40</td>\n",
       "      <td>True</td>\n",
       "    </tr>\n",
       "    <tr>\n",
       "      <th>165</th>\n",
       "      <td>class_eig0_lin0.24</td>\n",
       "      <td>120.130257</td>\n",
       "      <td>class</td>\n",
       "      <td>0</td>\n",
       "      <td>0.24</td>\n",
       "      <td>True</td>\n",
       "    </tr>\n",
       "    <tr>\n",
       "      <th>166</th>\n",
       "      <td>class_eig0_lin-0.16</td>\n",
       "      <td>59.938549</td>\n",
       "      <td>class</td>\n",
       "      <td>0</td>\n",
       "      <td>-0.16</td>\n",
       "      <td>True</td>\n",
       "    </tr>\n",
       "    <tr>\n",
       "      <th>167</th>\n",
       "      <td>class_eig0_lin-0.24</td>\n",
       "      <td>33.493942</td>\n",
       "      <td>class</td>\n",
       "      <td>0</td>\n",
       "      <td>-0.24</td>\n",
       "      <td>True</td>\n",
       "    </tr>\n",
       "    <tr>\n",
       "      <th>169</th>\n",
       "      <td>class_eig1_lin-0.16</td>\n",
       "      <td>53.278721</td>\n",
       "      <td>class</td>\n",
       "      <td>1</td>\n",
       "      <td>-0.16</td>\n",
       "      <td>True</td>\n",
       "    </tr>\n",
       "    <tr>\n",
       "      <th>172</th>\n",
       "      <td>class_eig1_lin0.40</td>\n",
       "      <td>105.065880</td>\n",
       "      <td>class</td>\n",
       "      <td>1</td>\n",
       "      <td>0.40</td>\n",
       "      <td>True</td>\n",
       "    </tr>\n",
       "    <tr>\n",
       "      <th>173</th>\n",
       "      <td>class_eig0_lin0.16</td>\n",
       "      <td>89.242874</td>\n",
       "      <td>class</td>\n",
       "      <td>0</td>\n",
       "      <td>0.16</td>\n",
       "      <td>True</td>\n",
       "    </tr>\n",
       "    <tr>\n",
       "      <th>174</th>\n",
       "      <td>class_eig1_lin-0.40</td>\n",
       "      <td>48.125114</td>\n",
       "      <td>class</td>\n",
       "      <td>1</td>\n",
       "      <td>-0.40</td>\n",
       "      <td>True</td>\n",
       "    </tr>\n",
       "    <tr>\n",
       "      <th>175</th>\n",
       "      <td>class_eig1_lin-0.24</td>\n",
       "      <td>66.598389</td>\n",
       "      <td>class</td>\n",
       "      <td>1</td>\n",
       "      <td>-0.24</td>\n",
       "      <td>True</td>\n",
       "    </tr>\n",
       "    <tr>\n",
       "      <th>176</th>\n",
       "      <td>class_eig1_lin-0.32</td>\n",
       "      <td>99.227463</td>\n",
       "      <td>class</td>\n",
       "      <td>1</td>\n",
       "      <td>-0.32</td>\n",
       "      <td>True</td>\n",
       "    </tr>\n",
       "    <tr>\n",
       "      <th>177</th>\n",
       "      <td>class_eig0_lin-0.24</td>\n",
       "      <td>99.897568</td>\n",
       "      <td>class</td>\n",
       "      <td>0</td>\n",
       "      <td>-0.24</td>\n",
       "      <td>True</td>\n",
       "    </tr>\n",
       "    <tr>\n",
       "      <th>178</th>\n",
       "      <td>class_eig1_lin0.24</td>\n",
       "      <td>116.527176</td>\n",
       "      <td>class</td>\n",
       "      <td>1</td>\n",
       "      <td>0.24</td>\n",
       "      <td>True</td>\n",
       "    </tr>\n",
       "    <tr>\n",
       "      <th>179</th>\n",
       "      <td>class_eig1_lin0.32</td>\n",
       "      <td>79.918045</td>\n",
       "      <td>class</td>\n",
       "      <td>1</td>\n",
       "      <td>0.32</td>\n",
       "      <td>True</td>\n",
       "    </tr>\n",
       "    <tr>\n",
       "      <th>180</th>\n",
       "      <td>class_eig0_lin-0.24</td>\n",
       "      <td>86.577888</td>\n",
       "      <td>class</td>\n",
       "      <td>0</td>\n",
       "      <td>-0.24</td>\n",
       "      <td>True</td>\n",
       "    </tr>\n",
       "    <tr>\n",
       "      <th>181</th>\n",
       "      <td>class_eig0_lin0.16</td>\n",
       "      <td>99.897560</td>\n",
       "      <td>class</td>\n",
       "      <td>0</td>\n",
       "      <td>0.16</td>\n",
       "      <td>True</td>\n",
       "    </tr>\n",
       "    <tr>\n",
       "      <th>182</th>\n",
       "      <td>class_eig0_lin-0.16</td>\n",
       "      <td>73.243454</td>\n",
       "      <td>class</td>\n",
       "      <td>0</td>\n",
       "      <td>-0.16</td>\n",
       "      <td>True</td>\n",
       "    </tr>\n",
       "    <tr>\n",
       "      <th>183</th>\n",
       "      <td>class_eig0_lin0.40</td>\n",
       "      <td>53.278721</td>\n",
       "      <td>class</td>\n",
       "      <td>0</td>\n",
       "      <td>0.40</td>\n",
       "      <td>True</td>\n",
       "    </tr>\n",
       "    <tr>\n",
       "      <th>185</th>\n",
       "      <td>class_eig1_lin-0.24</td>\n",
       "      <td>66.598366</td>\n",
       "      <td>class</td>\n",
       "      <td>1</td>\n",
       "      <td>-0.24</td>\n",
       "      <td>True</td>\n",
       "    </tr>\n",
       "    <tr>\n",
       "      <th>186</th>\n",
       "      <td>class_eig1_lin0.40</td>\n",
       "      <td>73.258194</td>\n",
       "      <td>class</td>\n",
       "      <td>1</td>\n",
       "      <td>0.40</td>\n",
       "      <td>True</td>\n",
       "    </tr>\n",
       "    <tr>\n",
       "      <th>189</th>\n",
       "      <td>class_eig0_lin0.00</td>\n",
       "      <td>79.918076</td>\n",
       "      <td>class</td>\n",
       "      <td>0</td>\n",
       "      <td>0.00</td>\n",
       "      <td>True</td>\n",
       "    </tr>\n",
       "    <tr>\n",
       "      <th>190</th>\n",
       "      <td>class_eig0_lin0.24</td>\n",
       "      <td>93.237701</td>\n",
       "      <td>class</td>\n",
       "      <td>0</td>\n",
       "      <td>0.24</td>\n",
       "      <td>True</td>\n",
       "    </tr>\n",
       "    <tr>\n",
       "      <th>191</th>\n",
       "      <td>class_eig1_lin-0.40</td>\n",
       "      <td>51.787254</td>\n",
       "      <td>class</td>\n",
       "      <td>1</td>\n",
       "      <td>-0.40</td>\n",
       "      <td>True</td>\n",
       "    </tr>\n",
       "    <tr>\n",
       "      <th>192</th>\n",
       "      <td>class_eig0_lin0.32</td>\n",
       "      <td>41.523701</td>\n",
       "      <td>class</td>\n",
       "      <td>0</td>\n",
       "      <td>0.32</td>\n",
       "      <td>True</td>\n",
       "    </tr>\n",
       "    <tr>\n",
       "      <th>193</th>\n",
       "      <td>class_eig1_lin-0.32</td>\n",
       "      <td>74.749664</td>\n",
       "      <td>class</td>\n",
       "      <td>1</td>\n",
       "      <td>-0.32</td>\n",
       "      <td>True</td>\n",
       "    </tr>\n",
       "    <tr>\n",
       "      <th>195</th>\n",
       "      <td>class_eig0_lin-0.32</td>\n",
       "      <td>99.897568</td>\n",
       "      <td>class</td>\n",
       "      <td>0</td>\n",
       "      <td>-0.32</td>\n",
       "      <td>True</td>\n",
       "    </tr>\n",
       "  </tbody>\n",
       "</table>\n",
       "</div>"
      ],
      "text/plain": [
       "                img_name  pref_unit_resp space_name  eig_id  lin_dist  hessian_img\n",
       "0     class_eig1_lin0.40      136.595154      class       1      0.40         True\n",
       "1     class_eig1_lin0.24      137.118378      class       1      0.24         True\n",
       "2     class_eig0_lin0.40      120.057068      class       0      0.40         True\n",
       "4    class_eig1_lin-0.16       79.918022      class       1     -0.16         True\n",
       "8     class_eig0_lin0.32       80.724617      class       0      0.32         True\n",
       "10   class_eig0_lin-0.24       66.613129      class       0     -0.24         True\n",
       "12   class_eig0_lin-0.32      114.635506      class       0     -0.32         True\n",
       "14   class_eig1_lin-0.40       73.243462      class       1     -0.40         True\n",
       "15    class_eig1_lin0.32       88.557976      class       1      0.32         True\n",
       "16    class_eig0_lin0.16       80.602936      class       0      0.16         True\n",
       "17    class_eig0_lin0.00       60.745106      class       0      0.00         True\n",
       "19   class_eig0_lin-0.16       60.623436      class       0     -0.16         True\n",
       "20   class_eig1_lin-0.24       57.273537      class       1     -0.24         True\n",
       "21   class_eig0_lin-0.40      145.384933      class       0     -0.40         True\n",
       "22    class_eig0_lin0.24       71.081879      class       0      0.24         True\n",
       "23   class_eig1_lin-0.32       39.959042      class       1     -0.32         True\n",
       "24    class_eig1_lin0.16       66.598373      class       1      0.16         True\n",
       "28   class_eig1_lin-0.32       99.139465      class       1     -0.32         True\n",
       "29   class_eig1_lin-0.40       46.872051      class       1     -0.40         True\n",
       "30   class_eig0_lin-0.24      110.805389      class       0     -0.24         True\n",
       "33    class_eig1_lin0.24       93.237724      class       1      0.24         True\n",
       "34    class_eig0_lin0.32       83.912857      class       0      0.32         True\n",
       "35    class_eig0_lin0.00       53.531891      class       0      0.00         True\n",
       "37   class_eig1_lin-0.40       73.243423      class       1     -0.40         True\n",
       "38    class_eig0_lin0.16       86.504684      class       0      0.16         True\n",
       "40    class_eig1_lin0.40       93.237717      class       1      0.40         True\n",
       "42    class_eig1_lin0.32      112.517563      class       1      0.32         True\n",
       "43   class_eig0_lin-0.32      119.950272      class       0     -0.32         True\n",
       "46   class_eig0_lin-0.24       86.577888      class       0     -0.24         True\n",
       "47   class_eig1_lin-0.32       39.944267      class       1     -0.32         True\n",
       "48    class_eig0_lin0.40       69.501816      class       0      0.40         True\n",
       "50    class_eig0_lin0.24       73.258179      class       0      0.24         True\n",
       "51   class_eig1_lin-0.16       75.923187      class       1     -0.16         True\n",
       "53   class_eig1_lin-0.24       91.746269      class       1     -0.24         True\n",
       "54   class_eig0_lin-0.40      106.557404      class       0     -0.40         True\n",
       "55   class_eig0_lin-0.16      113.217255      class       0     -0.16         True\n",
       "56    class_eig1_lin0.16       86.577881      class       1      0.16         True\n",
       "57   class_eig1_lin-0.32      132.943604      class       1     -0.32         True\n",
       "58   class_eig0_lin-0.32       74.749664      class       0     -0.32         True\n",
       "59   class_eig0_lin-0.40      102.832611      class       0     -0.40         True\n",
       "60   class_eig1_lin-0.40       75.002853      class       1     -0.40         True\n",
       "61    class_eig1_lin0.40      100.762451      class       1      0.40         True\n",
       "62   class_eig1_lin-0.16       91.731491      class       1     -0.16         True\n",
       "64    class_eig0_lin0.32       61.430012      class       0      0.32         True\n",
       "65    class_eig1_lin0.16      111.740509      class       1      0.16         True\n",
       "67    class_eig0_lin0.16       74.822830      class       0      0.16         True\n",
       "68   class_eig0_lin-0.16       73.258186      class       0     -0.16         True\n",
       "69    class_eig1_lin0.24       59.685383      class       1      0.24         True\n",
       "72   class_eig1_lin-0.24       96.979370      class       1     -0.24         True\n",
       "73    class_eig0_lin0.24      120.561981      class       0      0.24         True\n",
       "75    class_eig0_lin0.40       79.233109      class       0      0.40         True\n",
       "78    class_eig0_lin0.00       75.923225      class       0      0.00         True\n",
       "79   class_eig0_lin-0.24       86.577881      class       0     -0.24         True\n",
       "80    class_eig1_lin0.32      113.217278      class       1      0.32         True\n",
       "83   class_eig0_lin-0.24      125.715584      class       0     -0.24         True\n",
       "85   class_eig1_lin-0.16       45.362270      class       1     -0.16         True\n",
       "86    class_eig0_lin0.16       86.577843      class       0      0.16         True\n",
       "87   class_eig1_lin-0.24      113.217255      class       1     -0.24         True\n",
       "88    class_eig0_lin0.00       66.598389      class       0      0.00         True\n",
       "89    class_eig1_lin0.32       92.552826      class       1      0.32         True\n",
       "90    class_eig1_lin0.16       86.577873      class       1      0.16         True\n",
       "91    class_eig0_lin0.16       86.577843      class       0      0.16         True\n",
       "92    class_eig1_lin0.24      126.536942      class       1      0.24         True\n",
       "94   class_eig1_lin-0.40       86.577904      class       1     -0.40         True\n",
       "95    class_eig0_lin0.24       68.089844      class       0      0.24         True\n",
       "96   class_eig0_lin-0.32       86.504639      class       0     -0.32         True\n",
       "98   class_eig1_lin-0.16       68.089828      class       1     -0.16         True\n",
       "102   class_eig1_lin0.40      113.037308      class       1      0.40         True\n",
       "105  class_eig0_lin-0.40       73.019814      class       0     -0.40         True\n",
       "106  class_eig0_lin-0.16       92.552818      class       0     -0.16         True\n",
       "108  class_eig1_lin-0.32       51.787254      class       1     -0.32         True\n",
       "109  class_eig0_lin-0.24       99.897575      class       0     -0.24         True\n",
       "110   class_eig0_lin0.40      130.531784      class       0      0.40         True\n",
       "111   class_eig0_lin0.32       86.577881      class       0      0.32         True\n",
       "113  class_eig0_lin-0.40      119.877045      class       0     -0.40         True\n",
       "117   class_eig0_lin0.32       41.450504      class       0      0.32         True\n",
       "119  class_eig1_lin-0.40      102.757332      class       1     -0.40         True\n",
       "120  class_eig1_lin-0.24       46.618877      class       1     -0.24         True\n",
       "121   class_eig0_lin0.40      104.992699      class       0      0.40         True\n",
       "122   class_eig0_lin0.16       85.086380      class       0      0.16         True\n",
       "123   class_eig0_lin0.32       66.598404      class       0      0.32         True\n",
       "125  class_eig1_lin-0.16       79.918045      class       1     -0.16         True\n",
       "126   class_eig1_lin0.16      102.309372      class       1      0.16         True\n",
       "127   class_eig1_lin0.32       99.897537      class       1      0.32         True\n",
       "129  class_eig0_lin-0.24       60.623432      class       0     -0.24         True\n",
       "130  class_eig0_lin-0.16       66.598366      class       0     -0.16         True\n",
       "131   class_eig1_lin0.24      126.478516      class       1      0.24         True\n",
       "132  class_eig0_lin-0.40       52.593826      class       0     -0.40         True\n",
       "133   class_eig0_lin0.00       86.651039      class       0      0.00         True\n",
       "136  class_eig1_lin-0.32       71.889816      class       1     -0.32         True\n",
       "138   class_eig0_lin0.24       93.237732      class       0      0.24         True\n",
       "140   class_eig1_lin0.40       72.573288      class       1      0.40         True\n",
       "142  class_eig0_lin-0.32       60.370281      class       0     -0.32         True\n",
       "144  class_eig1_lin-0.24       59.923775      class       1     -0.24         True\n",
       "145  class_eig0_lin-0.16       86.577881      class       0     -0.16         True\n",
       "147   class_eig1_lin0.40       75.670067      class       1      0.40         True\n",
       "151  class_eig0_lin-0.32       87.247978      class       0     -0.32         True\n",
       "153   class_eig0_lin0.32       62.603561      class       0      0.32         True\n",
       "154  class_eig1_lin-0.32      106.557419      class       1     -0.32         True\n",
       "155   class_eig0_lin0.00       55.943737      class       0      0.00         True\n",
       "156  class_eig0_lin-0.40       73.005043      class       0     -0.40         True\n",
       "157   class_eig0_lin0.40       99.853889      class       0      0.40         True\n",
       "159   class_eig1_lin0.32       79.903290      class       1      0.32         True\n",
       "161  class_eig1_lin-0.24       39.959042      class       1     -0.24         True\n",
       "162   class_eig1_lin0.16       73.258217      class       1      0.16         True\n",
       "163   class_eig1_lin0.24       54.843384      class       1      0.24         True\n",
       "164  class_eig1_lin-0.40       86.577904      class       1     -0.40         True\n",
       "165   class_eig0_lin0.24      120.130257      class       0      0.24         True\n",
       "166  class_eig0_lin-0.16       59.938549      class       0     -0.16         True\n",
       "167  class_eig0_lin-0.24       33.493942      class       0     -0.24         True\n",
       "169  class_eig1_lin-0.16       53.278721      class       1     -0.16         True\n",
       "172   class_eig1_lin0.40      105.065880      class       1      0.40         True\n",
       "173   class_eig0_lin0.16       89.242874      class       0      0.16         True\n",
       "174  class_eig1_lin-0.40       48.125114      class       1     -0.40         True\n",
       "175  class_eig1_lin-0.24       66.598389      class       1     -0.24         True\n",
       "176  class_eig1_lin-0.32       99.227463      class       1     -0.32         True\n",
       "177  class_eig0_lin-0.24       99.897568      class       0     -0.24         True\n",
       "178   class_eig1_lin0.24      116.527176      class       1      0.24         True\n",
       "179   class_eig1_lin0.32       79.918045      class       1      0.32         True\n",
       "180  class_eig0_lin-0.24       86.577888      class       0     -0.24         True\n",
       "181   class_eig0_lin0.16       99.897560      class       0      0.16         True\n",
       "182  class_eig0_lin-0.16       73.243454      class       0     -0.16         True\n",
       "183   class_eig0_lin0.40       53.278721      class       0      0.40         True\n",
       "185  class_eig1_lin-0.24       66.598366      class       1     -0.24         True\n",
       "186   class_eig1_lin0.40       73.258194      class       1      0.40         True\n",
       "189   class_eig0_lin0.00       79.918076      class       0      0.00         True\n",
       "190   class_eig0_lin0.24       93.237701      class       0      0.24         True\n",
       "191  class_eig1_lin-0.40       51.787254      class       1     -0.40         True\n",
       "192   class_eig0_lin0.32       41.523701      class       0      0.32         True\n",
       "193  class_eig1_lin-0.32       74.749664      class       1     -0.32         True\n",
       "195  class_eig0_lin-0.32       99.897568      class       0     -0.32         True"
      ]
     },
     "execution_count": 3,
     "metadata": {},
     "output_type": "execute_result"
    }
   ],
   "source": [
    "sgtr_resp_per_space"
   ]
  },
  {
   "cell_type": "code",
   "execution_count": null,
   "metadata": {},
   "outputs": [],
   "source": []
  }
 ],
 "metadata": {
  "kernelspec": {
   "display_name": "torch",
   "language": "python",
   "name": "python3"
  },
  "language_info": {
   "codemirror_mode": {
    "name": "ipython",
    "version": 3
   },
   "file_extension": ".py",
   "mimetype": "text/x-python",
   "name": "python",
   "nbconvert_exporter": "python",
   "pygments_lexer": "ipython3",
   "version": "3.9.19"
  }
 },
 "nbformat": 4,
 "nbformat_minor": 2
}
