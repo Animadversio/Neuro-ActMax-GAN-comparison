{
 "cells": [
  {
   "cell_type": "code",
   "execution_count": 2,
   "metadata": {},
   "outputs": [],
   "source": [
    "import sys\n",
    "sys.path.append('/n/home12/binxuwang/Github/Neuro-ActMax-GAN-comparison')"
   ]
  },
  {
   "cell_type": "code",
   "execution_count": 4,
   "metadata": {},
   "outputs": [],
   "source": [
    "\n",
    "import os\n",
    "from os.path import join\n",
    "from pathlib import Path\n",
    "from collections import OrderedDict\n",
    "from easydict import EasyDict as edict\n",
    "import torch\n",
    "import seaborn as sns\n",
    "from matplotlib import cm\n",
    "import pickle as pkl\n",
    "import numpy as np\n",
    "import pandas as pd\n",
    "import matplotlib.pyplot as plt\n",
    "from scipy.stats import sem, ttest_ind, ttest_1samp, ttest_rel\n",
    "from core.utils.plot_utils import saveallforms, show_imgrid\n",
    "from neuro_data_analysis.neural_data_utils import parse_meta, area_mapping, get_all_masks\n",
    "from neuro_data_analysis.neural_data_lib import load_img_resp_pairs, load_neural_data, get_expstr, \\\n",
    "    extract_evol_activation_array, extract_evol_psth_array, extract_all_evol_trajectory_psth, pad_psth_traj\n",
    "from core.utils.stats_utils import ttest_rel_print, ttest_ind_print"
   ]
  },
  {
   "cell_type": "code",
   "execution_count": null,
   "metadata": {},
   "outputs": [],
   "source": []
  }
 ],
 "metadata": {
  "kernelspec": {
   "display_name": "torch2",
   "language": "python",
   "name": "python3"
  },
  "language_info": {
   "codemirror_mode": {
    "name": "ipython",
    "version": 3
   },
   "file_extension": ".py",
   "mimetype": "text/x-python",
   "name": "python",
   "nbconvert_exporter": "python",
   "pygments_lexer": "ipython3",
   "version": "3.10.14"
  }
 },
 "nbformat": 4,
 "nbformat_minor": 2
}
