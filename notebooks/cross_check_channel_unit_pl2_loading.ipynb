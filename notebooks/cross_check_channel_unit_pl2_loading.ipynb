{
 "cells": [
  {
   "cell_type": "markdown",
   "metadata": {},
   "source": [
    "This notebook is to load PL2 data basic info and to fill in the missing spikeID and unitID in the pkl file preloaded from matlab.\n"
   ]
  },
  {
   "cell_type": "code",
   "execution_count": 1,
   "metadata": {},
   "outputs": [
    {
     "name": "stderr",
     "output_type": "stream",
     "text": [
      "c:\\Users\\ponce\\.conda\\envs\\torch\\lib\\site-packages\\tqdm\\auto.py:22: TqdmWarning: IProgress not found. Please update jupyter and ipywidgets. See https://ipywidgets.readthedocs.io/en/stable/user_install.html\n",
      "  from .autonotebook import tqdm as notebook_tqdm\n"
     ]
    }
   ],
   "source": [
    "import os\n",
    "from os.path import join\n",
    "import re\n",
    "import math\n",
    "import pickle as pkl\n",
    "import time\n",
    "import numpy as np\n",
    "import pandas as pd\n",
    "from easydict import EasyDict as edict\n",
    "import h5py\n",
    "import seaborn as sns\n",
    "import matplotlib.pyplot as plt\n",
    "from tqdm.auto import tqdm\n",
    "from neuro_data_analysis.PL2_reading_lib import read_channel_unit_info, pl2_info\n",
    "from neuro_data_analysis.mat_data_translate_lib import h5_to_dict_simplify, print_hdf5_info\n",
    "\n",
    "# set the pandas display options width\n",
    "pd.set_option('display.width', 1000)\n",
    "pd.set_option('display.max_rows', 1000)\n",
    "pd.set_option('display.max_columns', 1000)\n",
    "\n",
    "\n",
    "mat_root = r\"S:\\Data-Ephys-MAT\"\n",
    "pkl_root = r\"S:\\Data-Ephys-PKL\"\n",
    "exp_record_pathdict = {\"Alfa\": r\"S:\\Exp_Record_Alfa.xlsx\", \n",
    "                       \"Beto\": r\"S:\\ExpSpecTable_Augment.xlsx\",\n",
    "                       \"Caos\": r\"S:\\Exp_Record_Caos.xlsx\",\n",
    "                       \"Diablito\": r\"S:\\Exp_Record_Diablito.xlsx\"}"
   ]
  },
  {
   "cell_type": "markdown",
   "metadata": {},
   "source": [
    "### Use PL2 files to update the pkl files "
   ]
  },
  {
   "cell_type": "code",
   "execution_count": 2,
   "metadata": {},
   "outputs": [],
   "source": [
    "from neuro_data_analysis.PL2_reading_lib import read_channel_unit_info, pl2_info"
   ]
  },
  {
   "cell_type": "code",
   "execution_count": 3,
   "metadata": {},
   "outputs": [],
   "source": [
    "ExpRecord_Hessian_All = pd.read_csv(r\"ExpRecord_BigGAN_Hessian_tuning_ABCD_w_meta.csv\")\n",
    "ExpRecord_Evolution_All = pd.read_csv(r\"ExpRecord_BigGAN_Hessian_Evol_ABCD_w_meta.csv\")\n"
   ]
  },
  {
   "cell_type": "markdown",
   "metadata": {},
   "source": [
    "### Check existance of PL2 files on local and network drives"
   ]
  },
  {
   "cell_type": "code",
   "execution_count": 4,
   "metadata": {},
   "outputs": [
    {
     "name": "stderr",
     "output_type": "stream",
     "text": [
      "47it [00:00, 181.10it/s]"
     ]
    },
    {
     "name": "stdout",
     "output_type": "stream",
     "text": [
      "PL2 file does not exist in any of the provided roots: Alfa-27082020-003.pl2\n"
     ]
    },
    {
     "name": "stderr",
     "output_type": "stream",
     "text": [
      "89it [00:00, 171.80it/s]"
     ]
    },
    {
     "name": "stdout",
     "output_type": "stream",
     "text": [
      "PL2 file does not exist in any of the provided roots: Alfa-27082020-002.pl2\n"
     ]
    },
    {
     "name": "stderr",
     "output_type": "stream",
     "text": [
      "107it [00:00, 175.56it/s]\n"
     ]
    }
   ],
   "source": [
    "PL2_roots = [r\"S:\\Data-Ephys-Raw\", r\"N:\\Data-Ephys-Raw\",\n",
    "             r\"\\\\standby.files.med.harvard.edu\\hms\\neurobio\\ponce\\collaborations\\Data-Ephys-Raw\\2020\",\n",
    "             r\"\\\\standby.files.med.harvard.edu\\hms\\neurobio\\ponce\\collaborations\\Data-Ephys-Raw\\2021\"]\n",
    "for _, exprow in tqdm(pd.concat([ExpRecord_Hessian_All, ExpRecord_Evolution_All]).iterrows()):   \n",
    "    PL2_path = None\n",
    "    for root in PL2_roots:\n",
    "        potential_path = join(root, f\"{exprow.ephysFN}.pl2\")\n",
    "        if os.path.exists(potential_path):\n",
    "            PL2_path = potential_path\n",
    "            break\n",
    "    if PL2_path is None:\n",
    "        print(f\"PL2 file does not exist in any of the provided roots: {exprow.ephysFN}.pl2\")\n",
    "        continue\n"
   ]
  },
  {
   "cell_type": "code",
   "execution_count": 6,
   "metadata": {},
   "outputs": [
    {
     "name": "stdout",
     "output_type": "stream",
     "text": [
      "ChanQual                                                        NaN\n",
      "Exp_collection                            BigGAN_FC6;BigGAN_Hessian\n",
      "Expi                                                            6.0\n",
      "WebCam                                                          NaN\n",
      "comments          CH 7 (-1.5, -1.5) 3 1 CMAES hash 1/5. Fc6 vs b...\n",
      "ephysFN                                           Alfa-27082020-002\n",
      "expControlFN                         200827_Alfa_generate_BigGAN(1)\n",
      "pref_chan                                                       7.0\n",
      "pref_unit                                                       1.0\n",
      "stim_size                                                       3.0\n",
      "stimuli           N:\\Stimuli\\2020-BigGAN\\2020-08-27-Alfa-01\\2020...\n",
      "Animal                                                         Alfa\n",
      "Name: 17, dtype: object\n"
     ]
    }
   ],
   "source": [
    "print(pd.concat([ExpRecord_Hessian_All, ExpRecord_Evolution_All]).query(\"ephysFN == 'Alfa-27082020-002'\").iloc[0])\n"
   ]
  },
  {
   "cell_type": "code",
   "execution_count": 5,
   "metadata": {},
   "outputs": [
    {
     "data": {
      "text/plain": [
       "ChanQual                                                        NaN\n",
       "Exp_collection                                       BigGAN_Hessian\n",
       "Expi                                                            6.0\n",
       "WebCam                                                          NaN\n",
       "comments          Selectivity start at 1018. Hess iamges from CH...\n",
       "ephysFN                                           Alfa-27082020-003\n",
       "expControlFN                          200827_Alfa_selectivity_basic\n",
       "pref_chan                                                       7.0\n",
       "pref_unit                                                       1.0\n",
       "stim_size                                                       3.0\n",
       "stimuli             N:\\Stimuli\\2020-Hessian\\alfa-200827-selectivity\n",
       "Animal                                                         Alfa\n",
       "Name: 18, dtype: object"
      ]
     },
     "execution_count": 5,
     "metadata": {},
     "output_type": "execute_result"
    }
   ],
   "source": [
    "pd.concat([ExpRecord_Hessian_All, ExpRecord_Evolution_All]).query(\"ephysFN == 'Alfa-27082020-003'\").iloc[0]"
   ]
  },
  {
   "cell_type": "code",
   "execution_count": null,
   "metadata": {},
   "outputs": [
    {
     "name": "stdout",
     "output_type": "stream",
     "text": [
      "N:\\Stimuli\\2020-BigGAN\\2020-08-27-Alfa-01\\2020-08-27-09-41-28\n"
     ]
    }
   ],
   "source": [
    "print(pd.concat([ExpRecord_Hessian_All, ExpRecord_Evolution_All]).query(\"ephysFN == 'Alfa-27082020-002'\").iloc[0].stimuli)\n"
   ]
  },
  {
   "cell_type": "markdown",
   "metadata": {},
   "source": [
    "### Check if the spike ID and unit ID match between PL2 and pkl files"
   ]
  },
  {
   "cell_type": "markdown",
   "metadata": {},
   "source": [
    "#### Find the mismatch list"
   ]
  },
  {
   "cell_type": "code",
   "execution_count": 29,
   "metadata": {},
   "outputs": [
    {
     "name": "stderr",
     "output_type": "stream",
     "text": [
      "18it [00:04,  4.93it/s]"
     ]
    },
    {
     "name": "stdout",
     "output_type": "stream",
     "text": [
      "PL2 file does not exist in any of the provided roots: Alfa-27082020-003.pl2\n"
     ]
    },
    {
     "name": "stderr",
     "output_type": "stream",
     "text": [
      "72it [00:17,  3.24it/s]"
     ]
    },
    {
     "name": "stdout",
     "output_type": "stream",
     "text": [
      "PL2 file does not exist in any of the provided roots: Alfa-27082020-002.pl2\n"
     ]
    },
    {
     "name": "stderr",
     "output_type": "stream",
     "text": [
      "85it [00:20,  2.90it/s]C:\\Users\\ponce\\AppData\\Local\\Temp\\ipykernel_71180\\2399960292.py:20: DeprecationWarning: elementwise comparison failed; this will raise an error in the future.\n",
      "  exact_match = (channel_id_pkl.astype(int) == spike_channel_id)\n",
      "C:\\Users\\ponce\\AppData\\Local\\Temp\\ipykernel_71180\\2399960292.py:31: DeprecationWarning: elementwise comparison failed; this will raise an error in the future.\n",
      "  exact_match = (unit_id_pkl.astype(int) == spike_unit_id)\n",
      "86it [00:21,  2.57it/s]"
     ]
    },
    {
     "name": "stdout",
     "output_type": "stream",
     "text": [
      "Alfa-13012021-002 Spike ID mismatch: PKL channel id [len: 137] !=  PL2 channel id [len: 129]\n",
      "Alfa-13012021-002 Unit ID mismatch: PKL unit id [len: 137] !=  PL2 unit id [len: 129]\n"
     ]
    },
    {
     "name": "stderr",
     "output_type": "stream",
     "text": [
      "87it [00:21,  2.55it/s]"
     ]
    },
    {
     "name": "stdout",
     "output_type": "stream",
     "text": [
      "Alfa-19022021-003 Spike ID mismatch: PKL channel id [len: 105] !=  PL2 channel id [len: 102]\n",
      "Alfa-19022021-003 Unit ID mismatch: PKL unit id [len: 105] !=  PL2 unit id [len: 102]\n"
     ]
    },
    {
     "name": "stderr",
     "output_type": "stream",
     "text": [
      "88it [00:21,  2.71it/s]"
     ]
    },
    {
     "name": "stdout",
     "output_type": "stream",
     "text": [
      "Alfa-25022021-002 Spike ID mismatch: PKL channel id [len: 98] !=  PL2 channel id [len: 94]\n",
      "Alfa-25022021-002 Unit ID mismatch: PKL unit id [len: 98] !=  PL2 unit id [len: 94]\n"
     ]
    },
    {
     "name": "stderr",
     "output_type": "stream",
     "text": [
      "89it [00:22,  2.83it/s]"
     ]
    },
    {
     "name": "stdout",
     "output_type": "stream",
     "text": [
      "Alfa-26022021-003 Spike ID mismatch: PKL channel id [len: 91] !=  PL2 channel id [len: 79]\n",
      "Alfa-26022021-003 Unit ID mismatch: PKL unit id [len: 91] !=  PL2 unit id [len: 79]\n"
     ]
    },
    {
     "name": "stderr",
     "output_type": "stream",
     "text": [
      "90it [00:22,  2.97it/s]"
     ]
    },
    {
     "name": "stdout",
     "output_type": "stream",
     "text": [
      "Alfa-12032021-004 Spike ID mismatch: PKL channel id [len: 102] !=  PL2 channel id [len: 93]\n",
      "Alfa-12032021-004 Unit ID mismatch: PKL unit id [len: 102] !=  PL2 unit id [len: 93]\n"
     ]
    },
    {
     "name": "stderr",
     "output_type": "stream",
     "text": [
      "91it [00:22,  2.91it/s]"
     ]
    },
    {
     "name": "stdout",
     "output_type": "stream",
     "text": [
      "Alfa-01042021-002 Spike ID mismatch: PKL channel id [len: 127] !=  PL2 channel id [len: 119]\n",
      "Alfa-01042021-002 Unit ID mismatch: PKL unit id [len: 127] !=  PL2 unit id [len: 119]\n"
     ]
    },
    {
     "name": "stderr",
     "output_type": "stream",
     "text": [
      "92it [00:23,  2.93it/s]"
     ]
    },
    {
     "name": "stdout",
     "output_type": "stream",
     "text": [
      "Alfa-08042021-002 Spike ID mismatch: PKL channel id [len: 136] !=  PL2 channel id [len: 118]\n",
      "Alfa-08042021-002 Unit ID mismatch: PKL unit id [len: 136] !=  PL2 unit id [len: 118]\n"
     ]
    },
    {
     "name": "stderr",
     "output_type": "stream",
     "text": [
      "93it [00:23,  2.99it/s]"
     ]
    },
    {
     "name": "stdout",
     "output_type": "stream",
     "text": [
      "Alfa-14052021-003 Spike ID mismatch: PKL channel id [len: 136] !=  PL2 channel id [len: 127]\n",
      "Alfa-14052021-003 Unit ID mismatch: PKL unit id [len: 136] !=  PL2 unit id [len: 127]\n"
     ]
    },
    {
     "name": "stderr",
     "output_type": "stream",
     "text": [
      "107it [00:28,  3.79it/s]\n"
     ]
    }
   ],
   "source": [
    "PL2_roots = [r\"S:\\Data-Ephys-Raw\", r\"N:\\Data-Ephys-Raw\",\n",
    "             r\"\\\\standby.files.med.harvard.edu\\hms\\neurobio\\ponce\\collaborations\\Data-Ephys-Raw\\2020\",\n",
    "             r\"\\\\standby.files.med.harvard.edu\\hms\\neurobio\\ponce\\collaborations\\Data-Ephys-Raw\\2021\"]\n",
    "mismatch_list = []\n",
    "for _, exprow in tqdm(pd.concat([ExpRecord_Hessian_All, ExpRecord_Evolution_All]).iterrows()):   \n",
    "    PL2_path = None\n",
    "    for root in PL2_roots:\n",
    "        potential_path = join(root, f\"{exprow.ephysFN}.pl2\")\n",
    "        if os.path.exists(potential_path):\n",
    "            PL2_path = potential_path\n",
    "            break\n",
    "    if PL2_path is None:\n",
    "        print(f\"PL2 file does not exist in any of the provided roots: {exprow.ephysFN}.pl2\")\n",
    "        continue\n",
    "    spike_channel_id, spike_unit_id, spike_total_cnt = read_channel_unit_info(PL2_path, threshold=10)\n",
    "    pkldata = pkl.load(open(join(pkl_root, f\"{exprow.ephysFN}.pkl\"), \"rb\"))\n",
    "    if \"spikeID\" in pkldata[\"meta\"].keys():\n",
    "        channel_id_pkl = pkldata[\"meta\"][\"spikeID\"][0].astype(int)\n",
    "        length_match = len(channel_id_pkl) == len(spike_channel_id)\n",
    "        exact_match = (channel_id_pkl == spike_channel_id)\n",
    "        if not (length_match and exact_match.all()):\n",
    "            print(f\"{exprow.ephysFN} Spike ID mismatch: PKL channel id [len: {len(channel_id_pkl)}] !=  PL2 channel id [len: {len(spike_channel_id)}]\")\n",
    "            # break\n",
    "            mismatch_list.append(exprow.ephysFN)\n",
    "    # else:\n",
    "    #     pkldata[\"meta\"][\"spikeID\"] = spike_channel_id[None, :]\n",
    "        \n",
    "    if \"unitID\" in pkldata[\"meta\"].keys():\n",
    "        unit_id_pkl = pkldata[\"meta\"][\"unitID\"][0].astype(int)\n",
    "        length_match = len(unit_id_pkl) == len(spike_unit_id)\n",
    "        exact_match = (unit_id_pkl == spike_unit_id)\n",
    "        if not (length_match and exact_match.all()):\n",
    "            print(f\"{exprow.ephysFN} Unit ID mismatch: PKL unit id [len: {len(unit_id_pkl)}] !=  PL2 unit id [len: {len(spike_unit_id)}]\")"
   ]
  },
  {
   "cell_type": "markdown",
   "metadata": {},
   "source": [
    "#### Check if adaptive threshold is the reason for the mismatch"
   ]
  },
  {
   "cell_type": "code",
   "execution_count": 30,
   "metadata": {},
   "outputs": [
    {
     "data": {
      "text/plain": [
       "['Alfa-13012021-002',\n",
       " 'Alfa-19022021-003',\n",
       " 'Alfa-25022021-002',\n",
       " 'Alfa-26022021-003',\n",
       " 'Alfa-12032021-004',\n",
       " 'Alfa-01042021-002',\n",
       " 'Alfa-08042021-002',\n",
       " 'Alfa-14052021-003']"
      ]
     },
     "execution_count": 30,
     "metadata": {},
     "output_type": "execute_result"
    }
   ],
   "source": [
    "mismatch_list = ['Alfa-13012021-002',\n",
    " 'Alfa-19022021-003',\n",
    " 'Alfa-25022021-002',\n",
    " 'Alfa-26022021-003',\n",
    " 'Alfa-12032021-004',\n",
    " 'Alfa-01042021-002',\n",
    " 'Alfa-08042021-002',\n",
    " 'Alfa-14052021-003']\n",
    "PL2_roots = [r\"S:\\Data-Ephys-Raw\", r\"N:\\Data-Ephys-Raw\",\n",
    "             r\"\\\\standby.files.med.harvard.edu\\hms\\neurobio\\ponce\\collaborations\\Data-Ephys-Raw\\2020\",\n",
    "             r\"\\\\standby.files.med.harvard.edu\\hms\\neurobio\\ponce\\collaborations\\Data-Ephys-Raw\\2021\"]\n",
    "\n",
    "for _, exprow in tqdm(pd.concat([ExpRecord_Hessian_All, ExpRecord_Evolution_All]).iterrows()):   \n",
    "    PL2_path = None\n",
    "    for root in PL2_roots:\n",
    "        potential_path = join(root, f\"{exprow.ephysFN}.pl2\")\n",
    "        if os.path.exists(potential_path):\n",
    "            PL2_path = potential_path\n",
    "            break\n",
    "    if PL2_path is None:\n",
    "        print(f\"PL2 file does not exist in any of the provided roots: {exprow.ephysFN}.pl2\")\n",
    "        continue\n",
    "    if exprow.ephysFN in mismatch_list:\n",
    "        threshold = 1\n",
    "    else:\n",
    "        threshold = 10\n",
    "    spike_channel_id, spike_unit_id, spike_total_cnt = read_channel_unit_info(PL2_path, threshold=threshold)\n",
    "    pkldata = pkl.load(open(join(pkl_root, f\"{exprow.ephysFN}.pkl\"), \"rb\"))\n",
    "    if \"spikeID\" in pkldata[\"meta\"].keys():\n",
    "        channel_id_pkl = pkldata[\"meta\"][\"spikeID\"][0].astype(int)\n",
    "        length_match = len(channel_id_pkl) == len(spike_channel_id)\n",
    "        exact_match = (channel_id_pkl == spike_channel_id)\n",
    "        if not (length_match and exact_match.all()):\n",
    "            print(f\"{exprow.ephysFN} Spike ID mismatch: PKL channel id [len: {len(channel_id_pkl)}] !=  PL2 channel id [len: {len(spike_channel_id)}]\")\n",
    "        \n",
    "    if \"unitID\" in pkldata[\"meta\"].keys():\n",
    "        unit_id_pkl = pkldata[\"meta\"][\"unitID\"][0].astype(int)\n",
    "        length_match = len(unit_id_pkl) == len(spike_unit_id)\n",
    "        exact_match = (unit_id_pkl == spike_unit_id)\n",
    "        if not (length_match and exact_match.all()):\n",
    "            print(f\"{exprow.ephysFN} Unit ID mismatch: PKL unit id [len: {len(unit_id_pkl)}] !=  PL2 unit id [len: {len(spike_unit_id)}]\")"
   ]
  },
  {
   "cell_type": "markdown",
   "metadata": {},
   "source": [
    "#### Finally write in the pkl file"
   ]
  },
  {
   "cell_type": "code",
   "execution_count": 32,
   "metadata": {},
   "outputs": [
    {
     "name": "stderr",
     "output_type": "stream",
     "text": [
      "18it [00:31,  1.76s/it]"
     ]
    },
    {
     "name": "stdout",
     "output_type": "stream",
     "text": [
      "PL2 file does not exist in any of the provided roots: Alfa-27082020-003.pl2\n"
     ]
    },
    {
     "name": "stderr",
     "output_type": "stream",
     "text": [
      "72it [02:43,  2.58s/it]"
     ]
    },
    {
     "name": "stdout",
     "output_type": "stream",
     "text": [
      "PL2 file does not exist in any of the provided roots: Alfa-27082020-002.pl2\n"
     ]
    },
    {
     "name": "stderr",
     "output_type": "stream",
     "text": [
      "107it [04:25,  2.48s/it]\n"
     ]
    }
   ],
   "source": [
    "PL2_roots = [r\"S:\\Data-Ephys-Raw\", r\"N:\\Data-Ephys-Raw\",\n",
    "             r\"\\\\standby.files.med.harvard.edu\\hms\\neurobio\\ponce\\collaborations\\Data-Ephys-Raw\\2020\",\n",
    "             r\"\\\\standby.files.med.harvard.edu\\hms\\neurobio\\ponce\\collaborations\\Data-Ephys-Raw\\2021\"]\n",
    "mismatch_list = ['Alfa-13012021-002',\n",
    "                'Alfa-19022021-003',\n",
    "                'Alfa-25022021-002',\n",
    "                'Alfa-26022021-003',\n",
    "                'Alfa-12032021-004',\n",
    "                'Alfa-01042021-002',\n",
    "                'Alfa-08042021-002',\n",
    "                'Alfa-14052021-003']\n",
    "for _, exprow in tqdm(pd.concat([ExpRecord_Hessian_All, ExpRecord_Evolution_All]).iterrows()):   \n",
    "    PL2_path = None\n",
    "    for root in PL2_roots:\n",
    "        potential_path = join(root, f\"{exprow.ephysFN}.pl2\")\n",
    "        if os.path.exists(potential_path):\n",
    "            PL2_path = potential_path\n",
    "            break\n",
    "    if PL2_path is None:\n",
    "        print(f\"PL2 file does not exist in any of the provided roots: {exprow.ephysFN}.pl2\")\n",
    "        continue\n",
    "    if exprow.ephysFN in mismatch_list:\n",
    "        threshold = 1\n",
    "    else:\n",
    "        threshold = 10\n",
    "    spike_channel_id, spike_unit_id, spike_total_cnt = read_channel_unit_info(PL2_path, threshold=threshold)\n",
    "    pkldata = pkl.load(open(join(pkl_root, f\"{exprow.ephysFN}.pkl\"), \"rb\"))\n",
    "    if \"spikeID\" in pkldata[\"meta\"].keys():\n",
    "        channel_id_pkl = pkldata[\"meta\"][\"spikeID\"][0].astype(int)\n",
    "        length_match = len(channel_id_pkl) == len(spike_channel_id)\n",
    "        exact_match = (channel_id_pkl == spike_channel_id)\n",
    "        if not (length_match and exact_match.all()):\n",
    "            print(f\"{exprow.ephysFN} Spike ID mismatch: PKL channel id [len: {len(channel_id_pkl)}] !=  PL2 channel id [len: {len(spike_channel_id)}]\")\n",
    "            break\n",
    "    else:\n",
    "        pkldata[\"meta\"][\"spikeID\"] = spike_channel_id[None, :]\n",
    "        \n",
    "    if \"unitID\" in pkldata[\"meta\"].keys():\n",
    "        unit_id_pkl = pkldata[\"meta\"][\"unitID\"][0].astype(int)\n",
    "        length_match = len(unit_id_pkl) == len(spike_unit_id)\n",
    "        exact_match = (unit_id_pkl == spike_unit_id)\n",
    "        if not (length_match and exact_match.all()):\n",
    "            print(f\"{exprow.ephysFN} Unit ID mismatch: PKL unit id [len: {len(unit_id_pkl)}] !=  PL2 unit id [len: {len(spike_unit_id)}]\")\n",
    "            break\n",
    "    else:\n",
    "        pkldata[\"meta\"][\"unitID\"] = spike_unit_id[None, :]\n",
    "    pkldata[\"meta\"][\"total_spike_cnt\"] = spike_total_cnt\n",
    "    pkl.dump(pkldata, open(join(pkl_root, f\"{exprow.ephysFN}.pkl\"), \"wb\"))\n"
   ]
  },
  {
   "cell_type": "code",
   "execution_count": null,
   "metadata": {},
   "outputs": [],
   "source": []
  },
  {
   "cell_type": "markdown",
   "metadata": {},
   "source": [
    "#### Check if mismatch happens whether it is because of the threshold"
   ]
  },
  {
   "cell_type": "code",
   "execution_count": 26,
   "metadata": {},
   "outputs": [
    {
     "name": "stdout",
     "output_type": "stream",
     "text": [
      "137\n"
     ]
    }
   ],
   "source": [
    "PL2_path = r\"S:\\Data-Ephys-Raw\\Alfa-27082020-002.pl2\"\n",
    "pkldata = pkl.load(open(join(pkl_root, f\"Alfa-27082020-002.pkl\"), \"rb\"))\n",
    "spike_channel_id, spike_unit_id, spike_total_cnt = read_channel_unit_info(PL2_path, threshold=1)\n",
    "print(len(spike_channel_id[spike_total_cnt > 1]))\n"
   ]
  },
  {
   "cell_type": "code",
   "execution_count": 28,
   "metadata": {},
   "outputs": [],
   "source": [
    "if \"spikeID\" in pkldata[\"meta\"].keys():\n",
    "    channel_id_pkl = pkldata[\"meta\"][\"spikeID\"][0]\n",
    "    length_match = len(channel_id_pkl) == len(spike_channel_id)\n",
    "    exact_match = (channel_id_pkl.astype(int) == spike_channel_id)\n",
    "    if not (length_match and exact_match.all()):\n",
    "        print(f\"{exprow.ephysFN} Spike ID mismatch: PKL channel id [len: {len(channel_id_pkl)}] !=  PL2 channel id [len: {len(spike_channel_id)}]\")\n",
    "# else:\n",
    "#     pkldata[\"meta\"][\"spikeID\"] = spike_channel_id[None, :]\n",
    "\n",
    "if \"unitID\" in pkldata[\"meta\"].keys():\n",
    "    unit_id_pkl = pkldata[\"meta\"][\"unitID\"][0]\n",
    "    length_match = len(unit_id_pkl) == len(spike_unit_id)\n",
    "    exact_match = (unit_id_pkl.astype(int) == spike_unit_id)\n",
    "    if not (length_match and exact_match.all()):\n",
    "        print(f\"{exprow.ephysFN} Unit ID mismatch: PKL unit id [len: {len(unit_id_pkl)}] !=  PL2 unit id [len: {len(spike_unit_id)}]\")"
   ]
  },
  {
   "cell_type": "code",
   "execution_count": 18,
   "metadata": {},
   "outputs": [
    {
     "data": {
      "text/plain": [
       "array([ 1.,  1.,  2.,  2.,  3.,  3.,  4.,  4.,  5.,  5.,  6.,  6.,  6.,\n",
       "        6.,  7.,  7.,  8.,  8.,  9.,  9.,  9., 10., 10., 11., 11., 12.,\n",
       "       12., 13., 13., 14., 14., 15., 15., 16., 16., 17., 17., 18., 18.,\n",
       "       19., 19., 20., 20., 20., 21., 21., 22., 22., 23., 23., 24., 24.,\n",
       "       24., 25., 25., 26., 26., 27., 27., 28., 28., 28., 29., 29., 30.,\n",
       "       30., 31., 31., 32., 32., 32., 33., 33., 34., 34., 35., 35., 36.,\n",
       "       36., 37., 37., 38., 38., 39., 39., 40., 40., 41., 41., 42., 42.,\n",
       "       43., 43., 44., 44., 45., 45., 46., 46., 47., 47., 48., 48., 49.,\n",
       "       49., 50., 50., 51., 51., 52., 52., 53., 53., 54., 54., 55., 55.,\n",
       "       55., 56., 56., 57., 57., 58., 58., 59., 59., 59., 60., 60., 61.,\n",
       "       61., 62., 62., 63., 63., 63., 64.])"
      ]
     },
     "execution_count": 18,
     "metadata": {},
     "output_type": "execute_result"
    }
   ],
   "source": [
    "channel_id_pkl"
   ]
  },
  {
   "cell_type": "code",
   "execution_count": 19,
   "metadata": {},
   "outputs": [
    {
     "name": "stdout",
     "output_type": "stream",
     "text": [
      "129\n",
      "137\n"
     ]
    }
   ],
   "source": [
    "print(len(spike_channel_id[spike_total_cnt > 0]))\n",
    "print(len(channel_id_pkl))"
   ]
  },
  {
   "cell_type": "code",
   "execution_count": null,
   "metadata": {},
   "outputs": [
    {
     "name": "stderr",
     "output_type": "stream",
     "text": [
      "68it [00:06,  9.16it/s]C:\\Users\\ponce\\AppData\\Local\\Temp\\ipykernel_58096\\883216326.py:16: DeprecationWarning: elementwise comparison failed; this will raise an error in the future.\n",
      "  exact_match = (pkldata[\"meta\"][\"spikeID\"][0].astype(int) == spike_channel_id)\n",
      "C:\\Users\\ponce\\AppData\\Local\\Temp\\ipykernel_58096\\883216326.py:24: DeprecationWarning: elementwise comparison failed; this will raise an error in the future.\n",
      "  exact_match = (pkldata[\"meta\"][\"unitID\"][0].astype(int) == spike_unit_id)\n",
      "90it [00:06, 24.35it/s]"
     ]
    },
    {
     "name": "stdout",
     "output_type": "stream",
     "text": [
      "Alfa-12032021-004 Spike ID mismatch: [[ 1.  1.  2.  2.  3.  3.  4.  5.  5.  5.  6.  6.  7.  8.  8.  8.  9.  9.\n",
      "  10. 11. 12. 13. 14. 15. 16. 17. 18. 18. 19. 19. 20. 20. 21. 22. 23. 24.\n",
      "  24. 25. 25. 26. 27. 27. 28. 28. 29. 30. 31. 32. 32. 32. 33. 33. 34. 34.\n",
      "  34. 35. 35. 36. 37. 37. 38. 39. 39. 40. 40. 41. 41. 42. 42. 43. 43. 43.\n",
      "  44. 45. 46. 47. 48. 49. 50. 50. 51. 52. 53. 53. 54. 55. 55. 56. 57. 58.\n",
      "  58. 58. 58. 59. 59. 60. 61. 62. 63. 63. 64. 64.]] [len: 102] != [ 1  1  2  2  3  4  5  5  5  6  7  8  8  8  9  9 10 11 12 13 14 15 16 17\n",
      " 18 19 20 21 22 23 24 25 26 27 28 28 29 30 31 32 32 32 33 33 34 34 34 35\n",
      " 35 36 37 37 38 39 39 40 40 41 41 42 42 43 43 43 44 45 46 47 48 49 50 50\n",
      " 51 52 53 53 54 55 55 56 57 58 58 58 58 59 60 61 62 63 63 64 64] [len: 93]\n",
      "Alfa-12032021-004 Unit ID mismatch: [[0. 1. 0. 1. 0. 1. 1. 0. 1. 2. 0. 1. 1. 0. 1. 2. 0. 1. 1. 1. 1. 1. 1. 1.\n",
      "  1. 1. 0. 1. 0. 1. 0. 1. 1. 1. 1. 0. 1. 0. 1. 1. 0. 1. 0. 1. 1. 1. 1. 0.\n",
      "  1. 2. 0. 1. 0. 1. 2. 0. 1. 1. 0. 1. 1. 0. 1. 0. 1. 0. 1. 0. 1. 0. 1. 2.\n",
      "  1. 1. 1. 1. 1. 1. 0. 1. 1. 1. 0. 1. 1. 0. 1. 1. 1. 0. 1. 2. 3. 0. 1. 1.\n",
      "  1. 1. 0. 1. 0. 1.]] [len: 102] != [0 1 0 1 1 1 0 1 2 1 1 0 1 2 0 1 1 1 1 1 1 1 1 1 1 1 1 1 1 1 1 1 1 1 0 1 1\n",
      " 1 1 0 1 2 0 1 0 1 2 0 1 1 0 1 1 0 1 0 1 0 1 0 1 0 1 2 1 1 1 1 1 1 0 1 1 1\n",
      " 0 1 1 0 1 1 1 0 1 2 3 1 1 1 1 0 1 0 1] [len: 93]\n",
      "Alfa-08042021-002 Spike ID mismatch: [[ 1.  1.  2.  2.  3.  3.  4.  4.  5.  5.  6.  6.  7.  7.  8.  8.  9.  9.\n",
      "  10. 10. 11. 11. 12. 12. 13. 13. 14. 14. 15. 15. 16. 17. 17. 18. 18. 19.\n",
      "  19. 20. 20. 20. 21. 21. 22. 22. 22. 23. 23. 24. 24. 25. 25. 26. 26. 27.\n",
      "  27. 28. 28. 29. 29. 30. 30. 30. 31. 31. 32. 32. 32. 33. 33. 33. 34. 34.\n",
      "  35. 35. 36. 36. 37. 37. 38. 38. 39. 39. 39. 40. 40. 41. 41. 42. 42. 43.\n",
      "  43. 43. 43. 44. 44. 45. 45. 46. 46. 47. 47. 48. 48. 49. 49. 50. 50. 51.\n",
      "  51. 52. 52. 53. 53. 54. 54. 55. 55. 56. 56. 57. 57. 58. 58. 58. 59. 59.\n",
      "  59. 60. 60. 61. 61. 62. 62. 63. 63. 64.]] [len: 136] != [ 1  1  2  2  3  3  4  5  5  6  7  7  8  9  9 10 11 12 12 13 14 14 15 15\n",
      " 16 17 18 19 19 20 20 20 21 22 22 22 23 24 24 25 26 27 28 29 30 30 31 32\n",
      " 32 32 33 33 33 34 34 35 35 36 36 37 37 38 38 39 39 39 40 40 41 41 42 42\n",
      " 43 43 43 44 44 45 45 46 46 47 47 48 48 49 49 50 50 51 51 52 52 53 53 54\n",
      " 54 55 55 56 56 57 57 58 58 58 59 59 59 60 60 61 61 62 62 63 63 64] [len: 118]\n",
      "Alfa-08042021-002 Unit ID mismatch: [[0. 1. 0. 1. 0. 1. 0. 1. 0. 1. 0. 1. 0. 1. 0. 1. 0. 1. 0. 1. 0. 1. 0. 1.\n",
      "  0. 1. 0. 1. 0. 1. 1. 0. 1. 0. 1. 0. 1. 0. 1. 2. 0. 1. 0. 1. 2. 0. 1. 0.\n",
      "  1. 0. 1. 0. 1. 0. 1. 0. 1. 0. 1. 0. 1. 2. 0. 1. 0. 1. 2. 0. 1. 2. 0. 1.\n",
      "  0. 1. 0. 1. 0. 1. 0. 1. 0. 1. 2. 0. 1. 0. 1. 0. 1. 0. 1. 2. 3. 0. 1. 0.\n",
      "  1. 0. 1. 0. 1. 0. 1. 0. 1. 0. 1. 0. 1. 0. 1. 0. 1. 0. 1. 0. 1. 0. 1. 0.\n",
      "  1. 0. 1. 2. 0. 1. 2. 0. 1. 0. 1. 0. 1. 0. 1. 1.]] [len: 136] != [0 1 0 1 0 1 1 0 1 1 0 1 1 0 1 1 1 0 1 1 0 1 0 1 1 1 1 0 1 0 1 2 1 0 1 2 1\n",
      " 0 1 1 1 1 1 1 1 2 1 0 1 2 0 1 2 0 1 0 1 0 1 0 1 0 1 0 1 2 0 1 0 1 0 1 1 2\n",
      " 3 0 1 0 1 0 1 0 1 0 1 0 1 0 1 0 1 0 1 0 1 0 1 0 1 0 1 0 1 0 1 2 0 1 2 0 1\n",
      " 0 1 0 1 0 1 1] [len: 118]\n"
     ]
    },
    {
     "name": "stderr",
     "output_type": "stream",
     "text": [
      "107it [00:07, 14.09it/s]"
     ]
    },
    {
     "name": "stdout",
     "output_type": "stream",
     "text": [
      "Alfa-14052021-003 Spike ID mismatch: [[ 1.  1.  2.  2.  3.  3.  4.  4.  5.  5.  6.  6.  7.  7.  8.  8.  9.  9.\n",
      "  10. 10. 10. 11. 11. 12. 12. 13. 13. 14. 14. 15. 15. 16. 16. 17. 17. 18.\n",
      "  18. 19. 19. 20. 20. 21. 21. 22. 22. 23. 23. 24. 24. 24. 25. 25. 26. 26.\n",
      "  27. 27. 28. 28. 29. 29. 30. 30. 31. 31. 32. 32. 32. 33. 33. 34. 34. 35.\n",
      "  35. 35. 36. 36. 37. 37. 38. 38. 39. 39. 40. 40. 41. 41. 41. 42. 42. 43.\n",
      "  43. 44. 44. 45. 45. 45. 46. 46. 47. 47. 48. 48. 49. 49. 50. 50. 51. 51.\n",
      "  52. 52. 53. 53. 54. 54. 55. 55. 56. 56. 57. 57. 58. 58. 58. 59. 59. 60.\n",
      "  60. 61. 61. 61. 62. 62. 63. 63. 64. 64.]] [len: 136] != [ 1  1  2  2  3  3  4  5  5  6  6  7  7  8  8  9  9 10 10 10 11 12 12 13\n",
      " 13 14 14 15 15 16 17 18 18 19 19 20 21 21 22 23 23 24 24 25 26 26 27 27\n",
      " 28 28 29 29 30 30 31 32 32 32 33 33 34 34 35 35 35 36 36 37 37 38 38 39\n",
      " 39 40 40 41 41 41 42 42 43 43 44 44 45 45 45 46 46 47 47 48 48 49 49 50\n",
      " 50 51 51 52 52 53 53 54 54 55 55 56 56 57 57 58 58 58 59 59 60 60 61 61\n",
      " 61 62 62 63 63 64 64] [len: 127]\n",
      "Alfa-14052021-003 Unit ID mismatch: [[0. 1. 0. 1. 0. 1. 0. 1. 0. 1. 0. 1. 0. 1. 0. 1. 0. 1. 0. 1. 2. 0. 1. 0.\n",
      "  1. 0. 1. 0. 1. 0. 1. 0. 1. 0. 1. 0. 1. 0. 1. 0. 1. 0. 1. 0. 1. 0. 1. 0.\n",
      "  1. 2. 0. 1. 0. 1. 0. 1. 0. 1. 0. 1. 0. 1. 0. 1. 0. 1. 2. 0. 1. 0. 1. 0.\n",
      "  1. 2. 0. 1. 0. 1. 0. 1. 0. 1. 0. 1. 0. 1. 2. 0. 1. 0. 1. 0. 1. 0. 1. 2.\n",
      "  0. 1. 0. 1. 0. 1. 0. 1. 0. 1. 0. 1. 0. 1. 0. 1. 0. 1. 0. 1. 0. 1. 0. 1.\n",
      "  0. 1. 2. 0. 1. 0. 1. 0. 1. 2. 0. 1. 0. 1. 0. 1.]] [len: 136] != [0 1 0 1 0 1 1 0 1 0 1 0 1 0 1 0 1 0 1 2 1 0 1 0 1 0 1 0 1 1 1 0 1 0 1 1 0\n",
      " 1 1 0 1 1 2 1 0 1 0 1 0 1 0 1 0 1 1 0 1 2 0 1 0 1 0 1 2 0 1 0 1 0 1 0 1 0\n",
      " 1 0 1 2 0 1 0 1 0 1 0 1 2 0 1 0 1 0 1 0 1 0 1 0 1 0 1 0 1 0 1 0 1 0 1 0 1\n",
      " 0 1 2 0 1 0 1 0 1 2 0 1 0 1 0 1] [len: 127]\n"
     ]
    },
    {
     "name": "stderr",
     "output_type": "stream",
     "text": [
      "\n"
     ]
    }
   ],
   "source": [
    "# data[\"meta\"]['spikeID'].shape\n",
    "from neuro_data_analysis.PL2_reading_lib import read_channel_unit_info, pl2_info\n",
    "local_PL2_root = r\"S:\\Data-Ephys-Raw\"\n",
    "network_PL2_root = r\"N:\\Data-Ephys-Raw\"\n",
    "for _, exprow in tqdm(pd.concat([ExpRecord_Hessian_All, ExpRecord_Evolution_All]).iterrows()):   \n",
    "    PL2_path = join(local_PL2_root, f\"{exprow.ephysFN}.pl2\")\n",
    "    if not os.path.exists(PL2_path):\n",
    "        PL2_path = PL2_path.replace(\"S:\", \"N:\") # use the network drive for non local PL2 files\n",
    "        if not os.path.exists(PL2_path):\n",
    "            # print(f\"PL2 file does not exist on local or network drive: {PL2_path}\")\n",
    "            continue\n",
    "    spike_channel_id, spike_unit_id, spike_total_cnt = read_channel_unit_info(PL2_path)\n",
    "    pkldata = pkl.load(open(join(pkl_root, f\"{exprow.ephysFN}.pkl\"), \"rb\"))\n",
    "    if \"spikeID\" in pkldata[\"meta\"].keys():\n",
    "        length_match = len(pkldata[\"meta\"][\"spikeID\"][0]) == len(spike_channel_id)\n",
    "        exact_match = (pkldata[\"meta\"][\"spikeID\"][0].astype(int) == spike_channel_id)\n",
    "        if not (length_match and exact_match.all()):\n",
    "            print(f\"{exprow.ephysFN} Spike ID mismatch: {pkldata['meta']['spikeID']} [len: {len(pkldata['meta']['spikeID'][0])}] != {spike_channel_id} [len: {len(spike_channel_id)}]\")\n",
    "    # else:\n",
    "    #     pkldata[\"meta\"][\"spikeID\"] = spike_channel_id[None, :]\n",
    "        \n",
    "    if \"unitID\" in pkldata[\"meta\"].keys():\n",
    "        length_match = len(pkldata[\"meta\"][\"unitID\"][0]) == len(spike_unit_id)\n",
    "        exact_match = (pkldata[\"meta\"][\"unitID\"][0].astype(int) == spike_unit_id)\n",
    "        if not (length_match and exact_match.all()):\n",
    "            print(f\"{exprow.ephysFN} Unit ID mismatch: {pkldata['meta']['unitID']} [len: {len(pkldata['meta']['unitID'][0])}] != {spike_unit_id} [len: {len(spike_unit_id)}]\")\n",
    "    # else:\n",
    "    #     pkldata[\"meta\"][\"unitID\"] = spike_unit_id[None, :]\n",
    "    # pkldata[\"meta\"][\"total_spike_cnt\"] = spike_total_cnt\n",
    "    # pkl.dump(pkldata, open(join(pkl_root, f\"{exprow.ephysFN}.pkl\"), \"wb\"))\n",
    "\n"
   ]
  },
  {
   "cell_type": "code",
   "execution_count": null,
   "metadata": {},
   "outputs": [
    {
     "name": "stdout",
     "output_type": "stream",
     "text": [
      "102\n",
      "93\n"
     ]
    }
   ],
   "source": [
    "print(len(pkldata[\"meta\"][\"spikeID\"][0]))\n",
    "print(len(spike_channel_id))\n"
   ]
  },
  {
   "cell_type": "code",
   "execution_count": null,
   "metadata": {},
   "outputs": [
    {
     "data": {
      "text/plain": [
       "'Alfa-12032021-004'"
      ]
     },
     "metadata": {},
     "output_type": "display_data"
    }
   ],
   "source": [
    "exprow.ephysFN"
   ]
  },
  {
   "cell_type": "code",
   "execution_count": null,
   "metadata": {},
   "outputs": [
    {
     "name": "stderr",
     "output_type": "stream",
     "text": [
      "C:\\Users\\ponce\\AppData\\Local\\Temp\\ipykernel_58096\\2089072093.py:1: DeprecationWarning: elementwise comparison failed; this will raise an error in the future.\n",
      "  (pkldata[\"meta\"][\"spikeID\"][0].astype(int) == spike_channel_id).all()\n"
     ]
    },
    {
     "ename": "AttributeError",
     "evalue": "'bool' object has no attribute 'all'",
     "output_type": "error",
     "traceback": [
      "\u001b[1;31m---------------------------------------------------------------------------\u001b[0m\n",
      "\u001b[1;31mAttributeError\u001b[0m                            Traceback (most recent call last)\n",
      "\u001b[1;32m~\\AppData\\Local\\Temp\\ipykernel_58096\\2089072093.py\u001b[0m in \u001b[0;36m<module>\u001b[1;34m\u001b[0m\n",
      "\u001b[1;32m----> 1\u001b[1;33m \u001b[1;33m(\u001b[0m\u001b[0mpkldata\u001b[0m\u001b[1;33m[\u001b[0m\u001b[1;34m\"meta\"\u001b[0m\u001b[1;33m]\u001b[0m\u001b[1;33m[\u001b[0m\u001b[1;34m\"spikeID\"\u001b[0m\u001b[1;33m]\u001b[0m\u001b[1;33m[\u001b[0m\u001b[1;36m0\u001b[0m\u001b[1;33m]\u001b[0m\u001b[1;33m.\u001b[0m\u001b[0mastype\u001b[0m\u001b[1;33m(\u001b[0m\u001b[0mint\u001b[0m\u001b[1;33m)\u001b[0m \u001b[1;33m==\u001b[0m \u001b[0mspike_channel_id\u001b[0m\u001b[1;33m)\u001b[0m\u001b[1;33m.\u001b[0m\u001b[0mall\u001b[0m\u001b[1;33m(\u001b[0m\u001b[1;33m)\u001b[0m\u001b[1;33m\u001b[0m\u001b[1;33m\u001b[0m\u001b[0m\n",
      "\u001b[0m\n",
      "\u001b[1;31mAttributeError\u001b[0m: 'bool' object has no attribute 'all'"
     ]
    }
   ],
   "source": []
  },
  {
   "cell_type": "code",
   "execution_count": null,
   "metadata": {},
   "outputs": [
    {
     "data": {
      "text/plain": [
       "array([[ 1.,  1.,  2.,  2.,  3.,  3.,  4.,  5.,  5.,  5.,  6.,  6.,  7.,\n",
       "         8.,  8.,  8.,  9.,  9., 10., 11., 12., 13., 14., 15., 16., 17.,\n",
       "        18., 18., 19., 19., 20., 20., 21., 22., 23., 24., 24., 25., 25.,\n",
       "        26., 27., 27., 28., 28., 29., 30., 31., 32., 32., 32., 33., 33.,\n",
       "        34., 34., 34., 35., 35., 36., 37., 37., 38., 39., 39., 40., 40.,\n",
       "        41., 41., 42., 42., 43., 43., 43., 44., 45., 46., 47., 48., 49.,\n",
       "        50., 50., 51., 52., 53., 53., 54., 55., 55., 56., 57., 58., 58.,\n",
       "        58., 58., 59., 59., 60., 61., 62., 63., 63., 64., 64.]])"
      ]
     },
     "metadata": {},
     "output_type": "display_data"
    }
   ],
   "source": [
    "pkldata[\"meta\"][\"spikeID\"]"
   ]
  },
  {
   "cell_type": "code",
   "execution_count": null,
   "metadata": {},
   "outputs": [
    {
     "name": "stdout",
     "output_type": "stream",
     "text": [
      "Caos-12022024-003 Caos Exp 1\n",
      "Caos-12022024-006 Caos Exp 2\n",
      "Caos-12042024-003 Caos Exp 3\n",
      "Caos-12042024-007 Caos Exp 4\n",
      "Caos-12092024-004 Caos Exp 5\n",
      "Caos-12102024-003 Caos Exp 6\n",
      "Caos-12102024-006 Caos Exp 7\n",
      "Diablito-03122024-003 Diablito Exp 1\n",
      "Diablito-11122024-003 Diablito Exp 2\n",
      "Diablito-11122024-005 Diablito Exp 3\n",
      "Diablito-12122024-004 Diablito Exp 4\n",
      "Diablito-12122024-006 Diablito Exp 5\n",
      "Alfa-04082020-003 Alfa Exp 1\n",
      "Alfa-06082020-004 Alfa Exp 2\n",
      "Alfa-10082020-004 Alfa Exp 2\n",
      "Alfa-12082020-004 Alfa Exp 3\n",
      "Alfa-14082020-003 Alfa Exp 4\n",
      "Alfa-25082020-007 Alfa Exp 5\n",
      "Alfa-27082020-003 Alfa Exp 6\n",
      "Alfa-01092020-004 Alfa Exp 7\n",
      "Alfa-02092020-004 Alfa Exp 8\n",
      "Alfa-02092020-006 Alfa Exp 9\n",
      "Alfa-08092020-004 Alfa Exp 10\n",
      "Alfa-11092020-003 Alfa Exp 11\n",
      "Alfa-11092020-006 Alfa Exp 12\n",
      "Alfa-16092020-003 Alfa Exp 13\n",
      "Alfa-16092020-005 Alfa Exp 14\n",
      "Alfa-27102020-007 Alfa Exp 15\n",
      "Alfa-27102020-008 Alfa Exp 15\n",
      "Alfa-27102020-009 Alfa Exp 15\n",
      "Alfa-04112020-005 Alfa Exp 16\n",
      "Alfa-06112020-006 Alfa Exp 17\n",
      "Alfa-12012021-003 Alfa Exp 18\n",
      "Alfa-13012021-003 Alfa Exp 19\n",
      "Alfa-19022021-004 Alfa Exp 20\n",
      "Alfa-25022021-004 Alfa Exp 21\n",
      "Alfa-26022021-005 Alfa Exp 22\n",
      "Alfa-12032021-005 Alfa Exp 23\n",
      "Alfa-01042021-004 Alfa Exp 24\n",
      "Alfa-08042021-003 Alfa Exp 25\n",
      "Alfa-14052021-004 Alfa Exp 26\n",
      "Beto-27072020-004 Beto Exp 1\n",
      "Beto-05082020-003 Beto Exp 2\n",
      "Beto-07082020-003 Beto Exp 3\n",
      "Beto-11082020-004 Beto Exp 4\n",
      "Beto-13082020-004 Beto Exp 5\n",
      "Beto-17082020-004 Beto Exp 6\n",
      "Beto-18082020-003 Beto Exp 7\n",
      "Beto-20082020-004 Beto Exp 8\n",
      "Beto-24082020-003 Beto Exp 9\n",
      "Beto-31082020-003 Beto Exp 10\n",
      "Beto-07092020-003 Beto Exp 11\n",
      "Beto-10092020-003 Beto Exp 12\n",
      "Beto-14092020-004 Beto Exp 13\n",
      "Beto-17092020-003 Beto Exp 14\n",
      "Caos-12022024-002 Caos Exp 1\n",
      "Caos-12022024-005 Caos Exp 2\n",
      "Caos-12042024-002 Caos Exp 3\n",
      "Caos-12042024-006 Caos Exp 4\n",
      "Caos-12092024-003 Caos Exp 5\n",
      "Caos-12102024-002 Caos Exp 6\n",
      "Caos-12102024-005 Caos Exp 7\n",
      "Diablito-03122024-002 Diablito Exp 1\n",
      "Diablito-11122024-002 Diablito Exp 2\n",
      "Diablito-11122024-004 Diablito Exp 3\n",
      "Diablito-12122024-003 Diablito Exp 4\n",
      "Diablito-12122024-005 Diablito Exp 5\n",
      "Alfa-04082020-002 Alfa Exp 1\n",
      "Alfa-06082020-002 Alfa Exp 2\n",
      "Alfa-12082020-003 Alfa Exp 3\n",
      "Alfa-14082020-002 Alfa Exp 4\n",
      "Alfa-25082020-006 Alfa Exp 5\n",
      "Alfa-27082020-002 Alfa Exp 6\n",
      "Alfa-01092020-003 Alfa Exp 7\n",
      "Alfa-02092020-003 Alfa Exp 8\n",
      "Alfa-02092020-005 Alfa Exp 9\n",
      "Alfa-08092020-002 Alfa Exp 10\n",
      "Alfa-11092020-002 Alfa Exp 11\n",
      "Alfa-11092020-005 Alfa Exp 12\n",
      "Alfa-16092020-002 Alfa Exp 13\n",
      "Alfa-16092020-004 Alfa Exp 14\n",
      "Alfa-27102020-004 Alfa Exp 15\n",
      "Alfa-04112020-002 Alfa Exp 16\n",
      "Alfa-06112020-003 Alfa Exp 17\n",
      "Alfa-12012021-002 Alfa Exp 18\n",
      "Alfa-13012021-002 Alfa Exp 19\n",
      "Alfa-19022021-003 Alfa Exp 20\n",
      "Alfa-25022021-002 Alfa Exp 21\n",
      "Alfa-26022021-003 Alfa Exp 22\n",
      "Alfa-12032021-004 Alfa Exp 23\n",
      "Alfa-01042021-002 Alfa Exp 24\n",
      "Alfa-08042021-002 Alfa Exp 25\n",
      "Alfa-14052021-003 Alfa Exp 26\n",
      "Beto-27072020-002 Beto Exp 1\n",
      "Beto-05082020-002 Beto Exp 2\n",
      "Beto-07082020-002 Beto Exp 3\n",
      "Beto-11082020-003 Beto Exp 4\n",
      "Beto-13082020-003 Beto Exp 5\n",
      "Beto-17082020-002 Beto Exp 6\n",
      "Beto-18082020-002 Beto Exp 7\n",
      "Beto-20082020-003 Beto Exp 8\n",
      "Beto-24082020-002 Beto Exp 9\n",
      "Beto-31082020-002 Beto Exp 10\n",
      "Beto-07092020-002 Beto Exp 11\n",
      "Beto-10092020-002 Beto Exp 12\n",
      "Beto-14092020-003 Beto Exp 13\n",
      "Beto-17092020-002 Beto Exp 14\n"
     ]
    }
   ],
   "source": [
    "for _, exprow in tqdm(pd.concat([ExpRecord_Hessian_All, ExpRecord_Evolution_All]).iterrows()):\n",
    "    print(exprow.ephysFN, exprow.Animal, \"Exp\", int(exprow.Expi))\n",
    "    data = pkl.load(open(join(pkl_root, f\"{exprow.ephysFN}.pkl\"), \"rb\"))\n",
    "    # rasters = data[\"rasters\"]\n",
    "    meta = data[\"meta\"]\n",
    "    # Trials = data[\"Trials\"]\n",
    "    data[\"meta\"]"
   ]
  }
 ],
 "metadata": {
  "kernelspec": {
   "display_name": "torch",
   "language": "python",
   "name": "python3"
  },
  "language_info": {
   "codemirror_mode": {
    "name": "ipython",
    "version": 3
   },
   "file_extension": ".py",
   "mimetype": "text/x-python",
   "name": "python",
   "nbconvert_exporter": "python",
   "pygments_lexer": "ipython3",
   "version": "3.9.19"
  }
 },
 "nbformat": 4,
 "nbformat_minor": 2
}
